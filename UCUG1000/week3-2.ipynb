{
 "cells": [
  {
   "cell_type": "code",
   "execution_count": null,
   "metadata": {},
   "outputs": [],
   "source": [
    "from scipy.stats import norm\n",
    "import matplotlib.pyplot as plt\n",
    "import numpy as np\n",
    "\n",
    "x = np.arange(-20, 20+0.1, step = 0.1)\n",
    "mean = [0.3, 0.2, 0.5]\n",
    "vars = [1.4, 2.5, 3.3]\n",
    "pdfs = np.zeros((3, x.size))\n",
    "\n",
    "fig, axs = plt.subplots(nrows = 3, ncols = 1, figsize = (7, 7))\n",
    "\n",
    "for i in range(0, 3):\n",
    "    pdfs[i, : ] = norm.pdf(x, loc = mean[i], scale = vars[i])\n",
    "    axs[i].plot(x, pdfs[i, : ])\n",
    "    axs[i].plot(mean[i] * np.ones(2), [0, 0.5], ':', color = 'r')\n",
    "    axs[i].set_yticks(np.arange(0, 0.6, step = 0.1))\n",
    "    axs[i].grid()"
   ]
  }
 ],
 "metadata": {
  "kernelspec": {
   "display_name": "base",
   "language": "python",
   "name": "python3"
  },
  "language_info": {
   "codemirror_mode": {
    "name": "ipython",
    "version": 3
   },
   "file_extension": ".py",
   "mimetype": "text/x-python",
   "name": "python",
   "nbconvert_exporter": "python",
   "pygments_lexer": "ipython3",
   "version": "3.11.4"
  }
 },
 "nbformat": 4,
 "nbformat_minor": 2
}
