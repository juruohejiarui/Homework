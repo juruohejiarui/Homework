{
 "cells": [
  {
   "cell_type": "code",
   "execution_count": null,
   "metadata": {},
   "outputs": [],
   "source": [
    "import numpy as np\n",
    "import scipy.stats\n",
    "import matplotlib.pyplot as plt\n",
    "from scipy.stats import bernoulli\n",
    "from scipy.stats import binom"
   ]
  },
  {
   "cell_type": "code",
   "execution_count": null,
   "metadata": {},
   "outputs": [],
   "source": [
    "a = np.zeros([10, 10])\n",
    "b = np.zeros([10, 10])\n",
    "for i in range(10):\n",
    "    for j in range(10):\n",
    "        a[i, j], b[i, j] = (i + 1) / (j + 1), (i + 1) * (j + 1)\n",
    "c = np.dot(a, b)\n",
    "print(c)"
   ]
  },
  {
   "cell_type": "code",
   "execution_count": null,
   "metadata": {},
   "outputs": [],
   "source": [
    "pmfs = np.zeros([3, 2])\n",
    "p = [0.2, 0.5, 0.6]\n",
    "x = np.arange(0, 2)\n",
    "print(x)\n",
    "m1 = np.zeros(3)\n",
    "\n",
    "axs: np.ndarray\n",
    "fig: plt.Figure\n",
    "fig, axs = plt.subplots(nrows = 3, ncols = 1, figsize = (7, 7))\n",
    "\n",
    "for i in range(0, 3):\n",
    "    pmfs[i, : ] = bernoulli.pmf(x, p[i])\n",
    "    print(pmfs[i])\n",
    "    m1[i] = bernoulli.mean(p[i], loc = 0)\n",
    "    axs[i].stem(x, pmfs[i, : ])\n",
    "    axs[i].plot(m1[i] * np.ones(2), [0, 1], \"-o\", color = 'r')\n",
    "    axs[i].set_yticks(np.arange(0, 1.1, step = 0.1))\n",
    "    axs[i].grid()"
   ]
  },
  {
   "cell_type": "markdown",
   "metadata": {},
   "source": [
    "Calculate the binom probability and mean values of each cases:\n",
    "\n",
    "- $P = 0.01, n = 200$\n",
    "- $P = 0.02, n = 200$"
   ]
  },
  {
   "cell_type": "code",
   "execution_count": null,
   "metadata": {},
   "outputs": [],
   "source": [
    "n = 200\n",
    "x = np.arange(0, 21)\n",
    "pmfs = np.zeros((2, 21))\n",
    "p = [0.01, 0.02]\n",
    "m2 = np.zeros(2)\n",
    "\n",
    "fig,axs = plt.subplots(nrows = 2, ncols = 1, figsize = (7,7)) # create a figure and a set of axes\n",
    "\n",
    "\n",
    "for i in range(0, 2):\n",
    "    pmfs[i, : ] = binom.pmf(x, n = n, p = p[i])\n",
    "    m1[i] = binom.mean(n = n, p = p[i])\n",
    "    axs[i].stem(x, pmfs[i, : ])\n",
    "    axs[i].plot(m1[i] * np.ones(2), [0, 0.3], \":\", color = 'r')\n",
    "    axs[i].set_yticks(np.arange(0, 0.32, step = 0.02))\n",
    "    axs[i].set_xticks(np.arange(0, 21, step = 1))\n",
    "    axs[i].grid()\n",
    "    print(pmfs[i][3])\n",
    "    print(np.sum(pmfs[i][2:10]), end=\"....\\n\")"
   ]
  }
 ],
 "metadata": {
  "kernelspec": {
   "display_name": "base",
   "language": "python",
   "name": "python3"
  },
  "language_info": {
   "codemirror_mode": {
    "name": "ipython",
    "version": 3
   },
   "file_extension": ".py",
   "mimetype": "text/x-python",
   "name": "python",
   "nbconvert_exporter": "python",
   "pygments_lexer": "ipython3",
   "version": "3.11.4"
  }
 },
 "nbformat": 4,
 "nbformat_minor": 2
}
