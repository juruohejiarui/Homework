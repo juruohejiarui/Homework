{
 "cells": [
  {
   "cell_type": "code",
   "execution_count": null,
   "metadata": {},
   "outputs": [],
   "source": [
    "import numpy as np\n",
    "import scipy.stats\n",
    "import matplotlib.pyplot as plt\n",
    "from scipy.stats import bernoulli\n",
    "from scipy.stats import binom\n",
    "\n",
    "fig, axs = plt.subplots(nrows = 2, ncols = 1, figsize = (10, 7))\n",
    "\n",
    "n = 360\n",
    "p = [0.98, 0.99]\n",
    "x = np.arange(345, 361)\n",
    "pmfs = np.zeros((2, 16))\n",
    "mn = np.zeros(2)\n",
    "\n",
    "for i in range(0, 2):\n",
    "    pmfs[i, : ] = binom.pmf(x, n = n, p = p[i])\n",
    "    mn[i] = binom.mean(n = n, p = p[i])\n",
    "    axs[i].plot(x, pmfs[i, : ], marker = 'o')\n",
    "    axs[i].plot(mn[i] * np.ones(2), [0, 0.22], \":\", color = 'r')\n",
    "    axs[i].set_xticks(np.arange(345, 361, step = 1))\n",
    "    axs[i].set_yticks(np.arange(0, 0.24, step = 0.02))\n",
    "    axs[i].grid()\n",
    "\n",
    "    print(f\"When P = {p[i]}\")\n",
    "    print(f\"The probability of all the passagers catch the plane : {pmfs[i][15]}\")\n",
    "    print(f\"The expected value of number of arrivals of passengers : {mn[i]}\")\n",
    "\n",
    "del fig, axs, pmfs"
   ]
  },
  {
   "cell_type": "code",
   "execution_count": null,
   "metadata": {},
   "outputs": [],
   "source": [
    "n = 350\n",
    "ms = np.arange(350, 360)\n",
    "vl = 1000\n",
    "fig, axs = plt.subplots(nrows = ms.size + 1, ncols = 1, figsize = (15, 20))\n",
    "mn = np.zeros(ms.size)\n",
    "id = 0\n",
    "st = 335\n",
    "for m in ms:\n",
    "    x = np.arange(st, m + 1)\n",
    "    pmfs = np.zeros(m + 1 - st)\n",
    "    pmfs[ : ] = binom.pmf(x, n = m, p = p[0])\n",
    "    \n",
    "    axs[id].plot(x, pmfs[ : ], marker = 'o')\n",
    "    mn[id] = m * vl\n",
    "    for i in range(n + 1, m + 1):\n",
    "        mn[id] -= pmfs[i - st] * (i - n) * vl * 5\n",
    "    \n",
    "    axs[id].set_xticks(x)\n",
    "    axs[id].set_yticks(np.arange(0, 0.2, step = 0.02))\n",
    "    axs[id].grid()\n",
    "\n",
    "    print(f\"When m = {m}\")\n",
    "    print(f\"The expected revence is {mn[id]}\")\n",
    "    id += 1\n",
    "\n",
    "axs[id].plot(ms, mn, marker = \"o\")\n",
    "axs[id].set_xticks(ms)\n",
    "axs[id].set_yticks(np.arange(347000, 353601, step = 1500))\n",
    "axs[id].grid()"
   ]
  },
  {
   "cell_type": "code",
   "execution_count": null,
   "metadata": {},
   "outputs": [],
   "source": []
  },
  {
   "cell_type": "markdown",
   "metadata": {},
   "source": []
  }
 ],
 "metadata": {
  "kernelspec": {
   "display_name": "base",
   "language": "python",
   "name": "python3"
  },
  "language_info": {
   "codemirror_mode": {
    "name": "ipython",
    "version": 3
   },
   "file_extension": ".py",
   "mimetype": "text/x-python",
   "name": "python",
   "nbconvert_exporter": "python",
   "pygments_lexer": "ipython3",
   "version": "3.11.4"
  }
 },
 "nbformat": 4,
 "nbformat_minor": 2
}
