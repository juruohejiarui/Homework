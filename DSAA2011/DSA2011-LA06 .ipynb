{
 "cells": [
  {
   "cell_type": "markdown",
   "id": "151072b5",
   "metadata": {},
   "source": [
    "*2025 Spring DSAA 2011 Maching Learning*\n",
    "## Lab Note 06\n",
    "*Weiwen Chen, Guanghua Li, Yifan Zhang, Zixin Zhong* \\\n",
    "*Hong Kong University of Science and Technology (Guangzhou)*"
   ]
  },
  {
   "cell_type": "markdown",
   "id": "5da52a7f",
   "metadata": {},
   "source": [
    "**Question 1.** Given a sample $\\mathbf{x}$ and the parameters $(\\boldsymbol{\\theta}, \\theta_0)$, assume the label $y\\in\\{-1, 1\\}$ and \n",
    "$$\n",
    "\\log \\frac{\\operatorname{Pr}\\left(y=1 \\mid \\mathbf{x}, \\boldsymbol{\\theta}, \\theta_0\\right)}{\\operatorname{Pr}\\left(y=-1 \\mid \\mathbf{x}, \\boldsymbol{\\theta}, \\theta_0\\right)}=\\langle\\boldsymbol{\\theta}, \\mathbf{x}\\rangle+\\theta_0.\n",
    "$$\n",
    "Show that\n",
    "$$\n",
    "    \\Pr \\left(y=1 \\mid \\mathbf{x}, \\boldsymbol{\\theta}, \\theta_0\\right)=g\\left(\\langle\\boldsymbol{\\theta}, \\mathbf{x}\\rangle+\\theta_0\\right)=\\frac{1}{1+\\exp \\left(-\\left(\\langle\\boldsymbol{\\theta}, \\mathbf{x}\\rangle+\\theta_0\\right)\\right)}. \n",
    "$$"
   ]
  },
  {
   "cell_type": "code",
   "execution_count": null,
   "id": "0d9a8d77",
   "metadata": {},
   "outputs": [],
   "source": []
  },
  {
   "cell_type": "markdown",
   "id": "207c8b2e",
   "metadata": {},
   "source": [
    "**Question 2.** To find the MLE of parameters for logistic regression, prove the gradients with respect to $\\boldsymbol{\\theta}$ and $\\theta_0$ are as follows:\n",
    "\\begin{align}\n",
    "\\frac{\\mathrm{d}}{\\mathrm{d}\\theta_0}\\log \\big[1+\\exp(-y_t( \\langle\\mathbf{x}_t,  \\boldsymbol{\\theta}\\rangle+\\theta_0 ) )\\big]&=  -y_t\\frac{\\exp \\big(-y_t( \\langle\\mathbf{x}_t,  \\boldsymbol{\\theta}\\rangle+\\theta_0 )  \\big)}{1+\\exp \\big(-y_t( \\langle\\mathbf{x}_t,  \\boldsymbol{\\theta}\\rangle+\\theta_0 )  \\big)}  \\\\\n",
    "&=-y_t \\big[ 1-\\Pr(y_t\\mid \\mathbf{x}_t, \\boldsymbol{\\theta}, \\theta_0 ) \\big],\\\\\n",
    "\\frac{\\mathrm{d}}{\\mathrm{d}\\boldsymbol{\\theta}}\\log \\big[1+\\exp(-y_t( \\langle\\mathbf{x}_t,  \\boldsymbol{\\theta}\\rangle+\\theta_0 ) )\\big]&=-y_t \\mathbf{x}_t\\big[ 1-\\Pr(y_t\\mid \\mathbf{x}_t, \\boldsymbol{\\theta}, \\theta_0 ) \\big].\n",
    "\\end{align}"
   ]
  },
  {
   "cell_type": "code",
   "execution_count": null,
   "id": "bf39a3b4",
   "metadata": {},
   "outputs": [],
   "source": []
  },
  {
   "cell_type": "markdown",
   "id": "ed4cc4f5",
   "metadata": {},
   "source": [
    "**Question 3.** (i) For $M> 2$ classes, we apply multi-class logistic regression with\n",
    "<!-- \\label{eq:softmax}  -->\n",
    "$$\n",
    "% \\begin{align} \n",
    "\\operatorname{Pr}(y=c \\mid \\mathbf{x} , \\{\\boldsymbol{\\theta}_c , \\theta_{0,c}\\}_{c=1}^M ) = \\frac{\\exp( \\langle \\boldsymbol{\\theta}_c, \\mathbf{x}\\rangle+\\theta_{0,c}  )}{\\sum_{c'=1}^M \\exp(\\langle\\boldsymbol{\\theta}_{c'}, \\mathbf{x}\\rangle+\\theta_{0,c'}  ) } \\\\\n",
    "% \\end{align}\n",
    "$$\n",
    "\n",
    "<!-- \\label{eq:log_reg}  -->\n",
    "(ii) For $M=2$ classes, we apply (binary) logistic regression with\n",
    "\n",
    "$$\n",
    "% \\begin{align} \n",
    "    \\operatorname{Pr} \\left(y=1 \\mid \\mathbf{x}, \\boldsymbol{\\theta}, \\theta_0\\right)\n",
    "    =\\frac{1}{1+\\exp \\left(-\\left(\\langle\\boldsymbol{\\theta}, \\mathbf{x}\\rangle+\\theta_0\\right)\\right)}.\n",
    "% \\end{align}\n",
    "$$\n",
    "**Show** that case (ii) is a special case of case (i).\n",
    "Hint: Without loss of generality, we can assume that one of the classes (say the first one) has $(\\boldsymbol{\\theta}_1, \\theta_{0,1}) =(\\mathbf{0},0)$."
   ]
  },
  {
   "cell_type": "markdown",
   "id": "3930d107",
   "metadata": {},
   "source": [
    "**Question 4.** \n",
    "Train and test with a logistic regression model for multi-class classification with a dataset provided in Canvas.\n",
    "\n",
    "For your reference: \n",
    "1. You are recommended to load the dataset following a proper path in your PC. \n",
    "2. Identify features as proper formats, such as numerical or categorical. \n",
    "3. Split the dataset to train set and test set, and train the logistic regression model. \n",
    "4. Test our model and evaluate the model performance"
   ]
  },
  {
   "cell_type": "code",
   "execution_count": 2,
   "id": "fd3256f5",
   "metadata": {},
   "outputs": [],
   "source": [
    "## Recommended library:\n",
    "import pandas as pd\n",
    "import matplotlib.pyplot as plt\n",
    "import seaborn as sns"
   ]
  },
  {
   "cell_type": "code",
   "execution_count": null,
   "id": "844e3512",
   "metadata": {},
   "outputs": [],
   "source": []
  },
  {
   "cell_type": "markdown",
   "id": "b26e9fb4",
   "metadata": {},
   "source": [
    "**Question 5.** Train and test with a regression regression model with the same dataset provided in Question 4. Compare the accuracy and model performance of two methods."
   ]
  },
  {
   "cell_type": "code",
   "execution_count": null,
   "id": "3de28e57",
   "metadata": {},
   "outputs": [],
   "source": []
  }
 ],
 "metadata": {
  "kernelspec": {
   "display_name": "Python 3 (ipykernel)",
   "language": "python",
   "name": "python3"
  },
  "language_info": {
   "codemirror_mode": {
    "name": "ipython",
    "version": 3
   },
   "file_extension": ".py",
   "mimetype": "text/x-python",
   "name": "python",
   "nbconvert_exporter": "python",
   "pygments_lexer": "ipython3",
   "version": "3.11.5"
  }
 },
 "nbformat": 4,
 "nbformat_minor": 5
}
