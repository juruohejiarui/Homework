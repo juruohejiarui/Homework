{
 "cells": [
  {
   "cell_type": "markdown",
   "id": "16f16420-62e4-47ed-adb4-f53db4ee05b9",
   "metadata": {},
   "source": [
    "*2025 Spring DSAA 2011 Maching Learning*\n",
    "## Lab Note 04\n",
    "*Weiwen Chen, Zixin Zhong* \\\n",
    "*Hong Kong University of Science and Technology (Guangzhou)*"
   ]
  },
  {
   "cell_type": "markdown",
   "id": "5b57bccd-9e2f-4b00-b48d-2c53077e8044",
   "metadata": {},
   "source": [
    "**Question 1**. Apply linear classification (affine model) with **only numpy**. Consider dataset  $(\\mathbf{x}_i, y_i), i = 1,2,3,4,5$ with samples \n",
    "$$\n",
    "\\begin{aligned}\n",
    "&\\mathbf{x}_1 = -7, \\quad \\mathbf{x}_2= -2,\\quad \\mathbf{x}_3=1, \\quad \\mathbf{x}_4=5, \\quad \\mathbf{x}_5=7  \\\\\n",
    "&y_1 = +1 , \\quad y_2= +1,\\quad y_3= -1, \\quad y_4=-1, \\quad y_5=-1.\n",
    "\\end{aligned}\n",
    "$$\n",
    "1. Write down the design matrix and target vector.\n",
    "1. Estimate $\\bar{\\mathbf{w}}^*$.\n",
    "2. Predict the label of a new test point $x_{\\text{new}}$."
   ]
  },
  {
   "cell_type": "code",
   "execution_count": null,
   "id": "b58049e8",
   "metadata": {},
   "outputs": [],
   "source": []
  },
  {
   "cell_type": "markdown",
   "id": "b6bfbf20-1a73-4d9c-ad89-c78598d89232",
   "metadata": {},
   "source": [
    "**Question 2**. \n",
    "1. Train a polynomial classification model with dataset in *Question 1* and predict for new test points.\n",
    "<br> Set the order of the polynomial function as $2$ and $3$ individually.\n",
    "1. Simulate a toy dataset (e.g. using *numpy.random*), train a polynomial classification model with the simulated dataset.\n",
    "<br> Set the order of the polynomial function as $2$ and $3$ individually."
   ]
  },
  {
   "cell_type": "code",
   "execution_count": null,
   "id": "1193ccc5",
   "metadata": {},
   "outputs": [],
   "source": [
    "import numpy as np\n",
    "def makePolyDataset(orgx : np.ndarray, order : int) -> np.ndarray :\n",
    "\tx = np.vstack(\n",
    "\t\t[orgx ** i for i in range(0, order + 1)]\n",
    "\t).T\n",
    "\treturn x\n",
    "\n",
    "x = np.array([-7, -2, 1, 5, 7])\n",
    "y = np.array([1, 1, -1, -1, -1])\n",
    "p2 = makePolyDataset(x, 2)\n",
    "p3 = makePolyDataset(x, 3)\n",
    "\n",
    "w2 = np.linalg.inv(p2.T @ p2) @ p2.T @ y\n",
    "w3 = np.linalg.inv(p3.T @ p3) @ p3.T @ y\n",
    "\n",
    "print(w2, w3)\n",
    "\n",
    "def f(x : np.ndarray | float) -> np.ndarray | float :\n",
    "\treturn 0.5 * x**2 - 2 * x + 1\n",
    "\n",
    "np.random.seed(42)\n",
    "x = np.random.uniform(-5, 5, 6)\n",
    "y = np.sign(np.random.normal(0, 0.5, 6) + f(x))\n",
    "\n",
    "print(x, y)\n",
    "p2 = makePolyDataset(x, 2)\n",
    "p3 = makePolyDataset(x, 3)\n",
    "w2 = np.linalg.inv(p2.T @ p2) @ p2.T @ y\n",
    "w3 = np.linalg.inv(p3.T @ p3) @ p3.T @ y\n",
    "\n",
    "print(w2, w3)"
   ]
  },
  {
   "cell_type": "markdown",
   "id": "a8d06673",
   "metadata": {},
   "source": [
    "## Using `numpy.random`\n",
    "\n",
    "The `numpy.random` module is used to generate random numbers. It provides functionalities such as random number generation, random sampling, and shuffling arrays.\n",
    "\n",
    "### Common Functions:"
   ]
  },
  {
   "cell_type": "code",
   "execution_count": null,
   "id": "e43f9e45",
   "metadata": {},
   "outputs": [],
   "source": [
    "import numpy as np\n",
    "\n",
    "# Generate a random float in the range [0, 1)\n",
    "random_float = np.random.rand()\n",
    "\n",
    "# Generate a random array with a specified shape (2x3 matrix)\n",
    "random_array = np.random.rand(2, 3)\n",
    "\n",
    "# Generate random integers in the range [low, high)\n",
    "random_int = np.random.randint(low=10, high=20, size=5)\n",
    "\n",
    "# Sample random numbers from a normal distribution\n",
    "random_normal = np.random.normal(loc=0, scale=1, size=5)\n",
    "\n",
    "# Shuffle an array randomly\n",
    "array = np.array([1, 2, 3, 4, 5])\n",
    "np.random.shuffle(array)"
   ]
  },
  {
   "cell_type": "markdown",
   "id": "967dd146",
   "metadata": {},
   "source": [
    "### Applications:\n",
    "* Data augmentation (generating random samples)\n",
    "* Data randomization (shuffling training data)\n",
    "* Simulating random processes"
   ]
  },
  {
   "cell_type": "code",
   "execution_count": null,
   "id": "e3c5f63d",
   "metadata": {},
   "outputs": [],
   "source": []
  },
  {
   "cell_type": "markdown",
   "id": "aa5a7047-7d4e-4b02-8b1e-35ddba6fc630",
   "metadata": {},
   "source": [
    "**Question 3**. Apply ridge regression to the dataset provided in `DSAA2011-LA04-data.csv'. \n",
    "\n",
    "(Source link:https://www.kaggle.com/datasets/budincsevity/szeged-weather)\n",
    "1. Use Ridge regression model to predict Apparel Temperature (C), with Humidity as the input feature.\n",
    "2. Divide the dataset into a training set and a testing set.\n",
    "3. Compare the effects of different regularization parameters (alpha).\n",
    "4. Calculate mean squared error (MSE) as the evaluation metric."
   ]
  },
  {
   "cell_type": "markdown",
   "id": "213a990b",
   "metadata": {},
   "source": [
    "## Tips:\n",
    "## Basic Functions of pandas\n",
    "\n",
    "pandas is a powerful library for data manipulation and analysis. It is widely used for reading, cleaning, transforming, and analyzing data.\n",
    "\n",
    "### Common Functions:"
   ]
  },
  {
   "cell_type": "code",
   "execution_count": null,
   "id": "ef22b816",
   "metadata": {},
   "outputs": [],
   "source": [
    "import pandas as pd\n",
    "\n",
    "# Read data\n",
    "df = pd.read_csv('DSAA2011-LA04-data.csv')  # Read from a CSV file\n",
    "print(df.head())  # View the first 5 rows\n",
    "\n",
    "# Basic information about the data\n",
    "print(df.info())  # Display dataset information\n",
    "print(df.describe())  # Show statistical information for numerical data\n",
    "\n",
    "# Data selection\n",
    "print(df['Temperature (C)'])  # Select a single column\n",
    "print(df[['Temperature (C)', 'Apparent Temperature (C)']])  # Select multiple columns\n",
    "print(df.iloc[0:5])  # Select rows (first 5 rows)\n",
    "\n",
    "# Data cleaning\n",
    "df = df.dropna()  # Remove missing values\n",
    "df['new_column'] = df['Temperature (C)'] * 2  # Create a new column\n",
    "\n",
    "# Data grouping and aggregation\n",
    "# grouped = df.groupby('Temperature (C)').mean()  # Group by a column and calculate the mean\n",
    "def mean_str(col):\n",
    "    if pd.api.types.is_numeric_dtype(col):\n",
    "        return col.mean()\n",
    "    else:\n",
    "        return col.unique() if col.nunique() == 1 else np.nan\n",
    "# So now you would do something like:\n",
    "\n",
    "grouped = df.groupby('Temperature (C)').agg(mean_str)\n",
    "\n",
    "# # Save data\n",
    "df.to_csv('output.csv', index=False)  # Save to a CSV file"
   ]
  },
  {
   "cell_type": "markdown",
   "id": "fc536bf5",
   "metadata": {},
   "source": [
    "### Applications:\n",
    "\n",
    "- Data preprocessing: cleaning, transforming, and preparing data\n",
    "- Data analysis: statistics and visualization\n",
    "- Data import and export: supports various formats (CSV, Excel, SQL, etc.)"
   ]
  },
  {
   "cell_type": "markdown",
   "id": "faf70915",
   "metadata": {},
   "source": [
    "## Mean Squared Error (MSE)\n",
    "\n",
    "### What is MSE?\n",
    "\n",
    "Mean Squared Error (MSE) is a common metric used to evaluate model performance, particularly in linear regression and curve fitting. It represents the average squared difference between predicted values and true values.\n",
    "\n",
    "### Formula:\n",
    "\n",
    "If there are true values `y` and predicted values `ŷ`, with a sample size of `n`, the formula for MSE is:\n",
    "\n",
    "$$ \\text{MSE} = \\frac{1}{n} \\sum_{i=1}^{n} (y_i - \\hat{y}_i)^2 $$\n",
    "\n",
    "### Characteristics:\n",
    "- The smaller the MSE, the better the model's predictive performance.\n",
    "- MSE is more sensitive to outliers because it amplifies larger errors by squaring them.\n",
    "\n",
    "### Role in Ridge Regression:\n",
    "\n",
    "In regression, MSE is part of the objective function used to measure the fit of the model. In ridge regression, the MSE is combined with a regularization term, such as $ \\lambda ||w||^2 $ (weighted L2 norm), to prevent overfitting.\n"
   ]
  },
  {
   "cell_type": "code",
   "execution_count": null,
   "id": "8b07727c",
   "metadata": {},
   "outputs": [],
   "source": [
    "from sklearn.model_selection import train_test_split\n",
    "data = pd.read_csv(\"./DSAA2011-LA04-data.csv\")\n",
    "X = data['Humidity'].values.reshape(-1, 1)\n",
    "X = np.vstack([np.ones(X.shape[0]).T, X.T]).T\n",
    "Y = data['Apparent Temperature (C)'].values.reshape(-1, 1)\n",
    "alpha = [1e-2, 1e-1, 1, 10, 100]\n",
    "\n",
    "x_train, x_test, y_train, y_test = train_test_split(X, Y, test_size=0.2, random_state=42)\n",
    "print(X, Y)\n",
    "\n",
    "def fit(x : np.ndarray, y : np.ndarray, alpha : float) -> np.ndarray :\n",
    "\treturn np.linalg.inv(x.T @ x + alpha * np.identity(x.shape[1])) @ x.T @ y\n",
    "\n",
    "def mse(y_pred : np.ndarray, y_correct : np.ndarray) -> float :\n",
    "\treturn (y_pred - y_correct).T @ (y_pred - y_correct) / y_pred.shape[0]\n",
    "\n",
    "bstAlpha = None\n",
    "for a in alpha :\n",
    "\tw = fit(x_train, y_train, a)\n",
    "\tmse_train = mse(y_train, x_train @ w)\n",
    "\tmse_test = mse(y_test, x_test @ w)\n",
    "\tprint(f\"a={a}, {mse_train}, {mse_test}\")\n"
   ]
  }
 ],
 "metadata": {
  "kernelspec": {
   "display_name": "DSAA2011",
   "language": "python",
   "name": "python3"
  },
  "language_info": {
   "codemirror_mode": {
    "name": "ipython",
    "version": 3
   },
   "file_extension": ".py",
   "mimetype": "text/x-python",
   "name": "python",
   "nbconvert_exporter": "python",
   "pygments_lexer": "ipython3",
   "version": "3.13.2"
  }
 },
 "nbformat": 4,
 "nbformat_minor": 5
}
