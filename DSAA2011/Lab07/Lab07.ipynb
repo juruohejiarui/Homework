{
 "cells": [
  {
   "cell_type": "markdown",
   "id": "473d4c5b7127c973",
   "metadata": {},
   "source": [
    "*2025 Spring DSAA 2011 Maching Learning*\n",
    "## Lab Note 07\n",
    "*Yang Luo, Zixin Zhong* \\\n",
    "*Hong Kong University of Science and Technology (Guangzhou)*"
   ]
  },
  {
   "cell_type": "markdown",
   "id": "9d7c73c03fbc25ad",
   "metadata": {},
   "source": [
    "# **Question 1: Binary Classification using SVM**\n",
    "\n",
    "In this task, we will apply **Support Vector Machine (SVM)** for a **binary classification** problem using the **Iris dataset**.\n",
    "\n",
    "**Dataset Source**: [Iris Dataset - Kaggle](https://www.kaggle.com/datasets/vikrishnan/iris-dataset/data)  \n",
    "**Dataset File**: `LA07-iris.data.csv`  \n",
    "\n",
    "### **Tasks**  \n",
    "\n",
    "**1. Data Preparation**\n",
    "- Divide the dataset into **training** and **testing** sets.  \n",
    "\n",
    "**2. Train the SVM Model**\n",
    "- Train an **SVM classifier** using the training data with **C = 100** as the default setting.\n",
    "\n",
    "**3. Visualize the Decision Boundary**\n",
    "- Plot the decision boundary learned by the SVM model.\n",
    "- Highlight the **support vectors**.\n",
    "\n",
    "**4. Model Evaluation**\n",
    "- Use the **test set** to evaluate the trained model.\n",
    "- (Optional) Compute and display the **confusion matrix**.\n",
    "\n",
    "**5. Experiment with Different Regularization Values**\n",
    "- Train the model with different values of **C**:  \n",
    "  - \\( C = 1 \\)  \n",
    "  - \\( C = 10 \\)  \n",
    "  - \\( C = 100 \\)  \n",
    "- Compare the decision boundaries and classification performance for different values of \\( C \\).\n",
    "\n",
    "### **Tips**\n",
    "- **Regularization Parameter \\( C \\)**:  \n",
    "  - A **small \\( C \\)** allows for **more margin violations**, leading to a **simpler model** (higher bias, lower variance).  \n",
    "  - A **large \\( C \\)** tries to **minimize misclassification**, making the model **more complex** (lower bias, higher variance).  \n",
    "- Observe how changing \\( C \\) affects the **decision boundary** and **support vectors**."
   ]
  },
  {
   "cell_type": "code",
   "execution_count": 13,
   "id": "151d672606082e05",
   "metadata": {
    "ExecuteTime": {
     "end_time": "2025-03-17T13:21:41.336893Z",
     "start_time": "2025-03-17T13:21:41.328355Z"
    }
   },
   "outputs": [
    {
     "name": "stdout",
     "output_type": "stream",
     "text": [
      "   sepal_length  sepal_width  petal_length  petal_width      species\n",
      "0           5.1          3.5           1.4          0.2  Iris-setosa\n",
      "1           4.9          3.0           1.4          0.2  Iris-setosa\n",
      "2           4.7          3.2           1.3          0.2  Iris-setosa\n",
      "3           4.6          3.1           1.5          0.2  Iris-setosa\n",
      "4           5.0          3.6           1.4          0.2  Iris-setosa\n"
     ]
    }
   ],
   "source": [
    "import numpy as np\n",
    "import pandas as pd\n",
    "import matplotlib.pyplot as plt\n",
    "from sklearn import svm\n",
    "from sklearn.model_selection import train_test_split\n",
    "\n",
    "# read and load dataset\n",
    "data = pd.read_csv('LA07-iris.data.csv', header=None)\n",
    "data.columns = ['sepal_length', 'sepal_width', 'petal_length', 'petal_width', 'species']\n",
    "print(data.head())\n",
    "# select only two classes for binary classification\n",
    "data = data[data['species'].isin(['Iris-setosa', 'Iris-versicolor'])]\n",
    "# select only two features for simplicity\n",
    "x = data.iloc[:, [0, 1]]\n",
    "y = data['species']\n",
    "# convert the target variable to binary\n",
    "y = y.map({'Iris-setosa': 0, 'Iris-versicolor': 1})"
   ]
  },
  {
   "cell_type": "markdown",
   "id": "44fae4d6ffdaf8ff",
   "metadata": {},
   "source": [
    "**Your solution here:**"
   ]
  },
  {
   "cell_type": "code",
   "execution_count": 14,
   "id": "4297051394e70bf8",
   "metadata": {
    "ExecuteTime": {
     "end_time": "2025-03-17T13:21:42.717099Z",
     "start_time": "2025-03-17T13:21:42.713122Z"
    }
   },
   "outputs": [],
   "source": [
    "#1. Split the data into training and test sets using dataset (x,y)\n",
    "# ===================== Your Code Here =====================\n",
    "x_train, x_test, y_train, y_test = train_test_split(x, y, test_size=0.2, random_state=42)\n",
    "# ==========================================================\n"
   ]
  },
  {
   "cell_type": "code",
   "execution_count": null,
   "id": "2730a7630fc4c2d9",
   "metadata": {
    "ExecuteTime": {
     "end_time": "2025-03-17T13:21:43.459796Z",
     "start_time": "2025-03-17T13:21:43.456740Z"
    }
   },
   "outputs": [],
   "source": [
    "# 2. Train the SVM model using the training set\n",
    "# ===================== Your Code Here =====================\n",
    "svc = svm.SVC()\n",
    "svc.fit(x_train, y_train)\n",
    "# ==========================================================\n"
   ]
  },
  {
   "cell_type": "code",
   "execution_count": null,
   "id": "cce108c4aba1fbc9",
   "metadata": {
    "ExecuteTime": {
     "end_time": "2025-03-17T13:21:43.979463Z",
     "start_time": "2025-03-17T13:21:43.976237Z"
    }
   },
   "outputs": [],
   "source": [
    "# 3. Plot the decision boundary and support vectors\n",
    "# ===================== Your Code Here =====================\n",
    "\n",
    "# ==========================================================\n"
   ]
  },
  {
   "cell_type": "code",
   "execution_count": 4,
   "id": "5a5977fe24183e8f",
   "metadata": {
    "ExecuteTime": {
     "end_time": "2025-03-17T13:21:44.682744Z",
     "start_time": "2025-03-17T13:21:44.679465Z"
    }
   },
   "outputs": [],
   "source": [
    "# 4. Evaluate the model using the testing set and show confusion matrix\n",
    "# ===================== Your Code Here =====================\n",
    "# ==========================================================\n"
   ]
  },
  {
   "cell_type": "code",
   "execution_count": 5,
   "id": "10344e90c5bbdd69",
   "metadata": {
    "ExecuteTime": {
     "end_time": "2025-03-17T13:21:45.265186Z",
     "start_time": "2025-03-17T13:21:45.262677Z"
    }
   },
   "outputs": [],
   "source": [
    "# 5. Try different values of C\n",
    "# ===================== Your Code Here =====================\n",
    "# ==========================================================\n"
   ]
  },
  {
   "cell_type": "markdown",
   "id": "eca4b9f0b3cfe89f",
   "metadata": {},
   "source": [
    "# **Question 2: Analysis of SVM Classification Performance**  \n",
    "\n",
    "When using Support Vector Machines (SVMs) for a **binary classification** task, the following two sets of experimental results were observed. Please **analyze the possible reasons based on the principles of SVM**:  \n",
    "\n",
    "### **Experimental Results:**  \n",
    "1. **Case 1:**  \n",
    "   - Training set accuracy: **90%**  \n",
    "   - Validation set accuracy: **90%**  \n",
    "   - Test set accuracy: **88%**  \n",
    "\n",
    "2. **Case 2:**  \n",
    "   - Training set accuracy: **98%**  \n",
    "   - Validation set accuracy: **90%**  \n",
    "   - Test set accuracy: **88%**  \n",
    "\n",
    "### **Tips:**  \n",
    "Consider the principle of **SVM as a soft-margin classifier**, where the optimization problem is formulated as follows:  \n",
    "\n",
    "\\begin{aligned}  \n",
    " \\min_{(\\mathbf{\\theta}, \\theta_0) \\in \\mathbb{R}^d \\times \\mathbb{R}} \\frac{1}{2} \\| \\mathbf{\\theta} \\|^2 & + C\\sum_{t=1}^{n} \\epsilon_t \\\\  \n",
    " \\text{s.t.} \\quad y_t ( x_t^T \\mathbf{\\theta} + \\theta_0) & \\geq 1 - \\epsilon_t, \\quad \\forall t=1,2,\\dots,n \\\\  \n",
    "\\epsilon_t & \\geq 0, \\quad \\forall t=1,2,\\dots,n  \n",
    "\\end{aligned}  \n",
    "\n",
    "### **Key Questions for Analysis:**  \n",
    "- How does the choice of **regularization parameter** \\( C \\) influence the decision boundary and generalization ability?  \n",
    "- What do these accuracy patterns suggest about **underfitting** vs. **overfitting**?  \n",
    "- Why does the second case have higher training accuracy but the same validation and test accuracy as the first case?  \n",
    "- What adjustments can be made to improve generalization performance?  \n",
    "\n",
    "Provide a detailed explanation based on the principles of **SVM margin theory**, **soft-margin classification**, and **model generalization**.\n"
   ]
  },
  {
   "cell_type": "markdown",
   "id": "efcb2f0efb1cf83",
   "metadata": {},
   "source": [
    "**Your solution here:**  "
   ]
  },
  {
   "cell_type": "markdown",
   "id": "92ea3af99513296a",
   "metadata": {},
   "source": []
  },
  {
   "cell_type": "markdown",
   "id": "f936260dd702b8d",
   "metadata": {},
   "source": [
    "# **Question 3: Nonlinear Classification using SVM**  \n",
    "\n",
    "In this section, we will explore **nonlinear classification** using Support Vector Machines (SVMs). In previous exercises, such as **Question 1**, we performed **binary classification** using a **linear SVM**. However, in many real-world scenarios, data is **not linearly separable**—meaning that a straight line (or hyperplane) cannot effectively separate the classes.  \n",
    "\n",
    "To handle such cases, we can use **SVMs with nonlinear kernels**. Specifically, we will apply an **SVM with a Gaussian kernel** to two different datasets:  \n",
    "\n",
    "- `LA07-nonlinear-data1.csv`  \n",
    "- `LA07-nonlinear-data2.csv`  \n",
    "\n",
    "These datasets contain data points that cannot be separated by a simple linear boundary. Instead, we will leverage the power of **kernel functions** to transform the input space into a higher-dimensional feature space, where the data becomes linearly separable.  \n",
    "\n",
    "**Provided Dataset Visualizations:**  "
   ]
  },
  {
   "cell_type": "markdown",
   "id": "b9ceaf5424e3565a",
   "metadata": {},
   "source": [
    "1. LA07-nonlinear-data1.csv\n",
    "<p align=\"center\">\n",
    "  <img src=\"LA07-nonlinear-data1.png\" alt=\"Data1\" width=\"10%\">\n",
    "</p>"
   ]
  },
  {
   "cell_type": "markdown",
   "id": "456fb0baa1b00e44",
   "metadata": {},
   "source": [
    "2. LA07-nonlinear-data2.csv\n",
    "<p align=\"center\">\n",
    "  <img src=\"LA07-nonlinear-data2.png\" alt=\"Data1\" width=\"10%\">\n",
    "</p>"
   ]
  },
  {
   "cell_type": "markdown",
   "id": "49de0f5918721c4",
   "metadata": {},
   "source": [
    "### **Tasks**  \n",
    "Now, you are required to complete the following tasks:  \n",
    "\n",
    "1. **Implement the Gaussian kernel function**.  \n",
    "2. **Train an SVM model using the Gaussian kernel** on the two datasets (`LA07-nonlinear-data1.csv` and `LA07-nonlinear-data2.csv`).  \n",
    "3. **Visualize the decision boundary** to illustrate how the kernel SVM separates the two classes.  \n",
    "4. **Experiment with different kernel functions** (e.g., polynomial, sigmoid) and **compare their performance** on the datasets.  "
   ]
  },
  {
   "cell_type": "markdown",
   "id": "b1f07b55745eb3a5",
   "metadata": {},
   "source": [
    "**Tips:**"
   ]
  },
  {
   "cell_type": "markdown",
   "id": "787952dc93c9cfd4",
   "metadata": {},
   "source": [
    "1. **SVM for non-linear classification:**\n",
    "\n",
    "* Instead of defining a nonlinear model in the original (input) space, the problem is mapped to a new (feature) space by performing a **nonlinear transformation** using a suitably chosen **basis functions**. \n",
    "* The basis functions are often defined implicitly via definning kernel functions directly. \n",
    "* In this new feature space, the problem is expected to be linearly separable. The SVM model can then be applied to find the optimal hyperplane in this new space. "
   ]
  },
  {
   "cell_type": "markdown",
   "id": "159b8d6fc30dfdfd",
   "metadata": {},
   "source": [
    "<p align=\"center\">\n",
    "  <img src=\"LA07-kernel.png\" alt=\"Kernel Trick\" width=\"10%\">\n",
    "</p>"
   ]
  },
  {
   "cell_type": "markdown",
   "id": "a0e0889e59511cee",
   "metadata": {},
   "source": [
    "2. **Guassian kernel:**\n",
    "\n",
    "* You can think of the Gaussian kernel as a similarity function that measures the “distance” between a pair of examples (x(i), x(j)). \n",
    "* The Gaussian kernel is also parameterized by a bandwidth parameter $\\sigma$, which determines how fast the similarity metric decreases (to 0) as the examples are further apart.\n",
    "And the definition of the Gaussian kernel is:\n",
    "$$\n",
    "K_{\\text{gaussian}}(x^{(i)}, x^{(j)}) = \\exp\\left(-\\frac{\\|x^{(i)} - x^{(j)}\\|^2}{2\\sigma^2}\\right) = \\exp \\left(-\\frac{\\sum_{k=1}^{n}(x_k^{(i)} - x_k^{(j)})^2}{2\\sigma^2}\\right)\n",
    "$$\n"
   ]
  },
  {
   "cell_type": "markdown",
   "id": "bc1a15057c3b326f",
   "metadata": {},
   "source": [
    "**Your solution here:**"
   ]
  },
  {
   "cell_type": "code",
   "execution_count": 6,
   "id": "f6ae21b7526a7f4f",
   "metadata": {
    "ExecuteTime": {
     "end_time": "2025-03-17T13:21:58.613541Z",
     "start_time": "2025-03-17T13:21:58.609911Z"
    }
   },
   "outputs": [],
   "source": [
    "# 1. Implement Gaussian kernel function\n",
    "import matplotlib.pyplot as plt\n",
    "import numpy as np\n",
    "import pandas as pd\n",
    "from sklearn import svm\n",
    "\n",
    "def gaussian_kernel(x1, x2, sigma=.1):\n",
    "    \"\"\"\n",
    "    The guassian kernel function\n",
    "    :param x1: input vector\n",
    "    :param x2: input vector\n",
    "    :param sigma: bandwidth parameter\n",
    "    :return: similarity between x1 and x2\n",
    "    \"\"\"\n",
    "    x1 = x1.flatten()\n",
    "    x2 = x2.flatten()\n",
    "\n",
    "    sim = 0\n",
    "\n",
    "    # ===================== Your Code Here =====================\n",
    "    # ==========================================================\n",
    "    \n",
    "    \n",
    "    return sim"
   ]
  },
  {
   "cell_type": "code",
   "execution_count": 7,
   "id": "a43aa8560f4f1512",
   "metadata": {
    "ExecuteTime": {
     "end_time": "2025-03-17T13:22:08.097709Z",
     "start_time": "2025-03-17T13:22:08.093953Z"
    }
   },
   "outputs": [
    {
     "name": "stdout",
     "output_type": "stream",
     "text": [
      "0\n"
     ]
    }
   ],
   "source": [
    "# test your implementation, if the output is 0.324652, it is correct\n",
    "x1 = np.array([1, 2, 1])\n",
    "x2 = np.array([0, 4, -1])\n",
    "sigma = 2\n",
    "sim = gaussian_kernel(x1, x2, sigma)\n",
    "print(sim) "
   ]
  },
  {
   "cell_type": "code",
   "execution_count": 8,
   "id": "c123c15ab01da84c",
   "metadata": {
    "ExecuteTime": {
     "end_time": "2025-03-17T13:22:16.875671Z",
     "start_time": "2025-03-17T13:22:16.872674Z"
    }
   },
   "outputs": [
    {
     "name": "stdout",
     "output_type": "stream",
     "text": [
      "         x1        x2  label\n",
      "0  0.107143  0.603070      1\n",
      "1  0.093318  0.649854      1\n",
      "2  0.097926  0.705409      1\n",
      "3  0.155530  0.784357      1\n",
      "4  0.210829  0.866228      1\n"
     ]
    },
    {
     "data": {
      "image/png": "[encoded data removed]",
      "text/plain": [
       "<Figure size 640x480 with 1 Axes>"
      ]
     },
     "metadata": {},
     "output_type": "display_data"
    }
   ],
   "source": [
    "# Load the dataset and visualize the data\n",
    "def plot_data(X, y):\n",
    "    plt.figure()\n",
    "    pos = np.where(y == 1.)[0]\n",
    "    neg = np.where(y == 0.)[0]\n",
    "\n",
    "    plt.scatter(X[pos, 0], X[pos, 1], marker=\"+\", c='b')\n",
    "    plt.scatter(X[neg, 0], X[neg, 1], marker=\"o\", c='y', s=15)\n",
    "\n",
    "data = pd.read_csv('LA07-nonlinear-data1.csv', header=None, skiprows=1)\n",
    "data.columns = ['x1', 'x2', 'label']\n",
    "print(data.head())\n",
    "\n",
    "X = data.iloc[:, [0, 1]]\n",
    "y = data.iloc[:, 2]\n",
    "plot_data(X.values, y.values)"
   ]
  },
  {
   "cell_type": "code",
   "execution_count": 9,
   "id": "437260534aef6ff7",
   "metadata": {
    "ExecuteTime": {
     "end_time": "2025-03-17T13:22:22.413173Z",
     "start_time": "2025-03-17T13:22:22.410646Z"
    }
   },
   "outputs": [
    {
     "name": "stdout",
     "output_type": "stream",
     "text": [
      "         x1        x2  label\n",
      "0  0.107143  0.603070      1\n",
      "1  0.093318  0.649854      1\n",
      "2  0.097926  0.705409      1\n",
      "3  0.155530  0.784357      1\n",
      "4  0.210829  0.866228      1\n"
     ]
    },
    {
     "data": {
      "image/png": "[encoded data removed]",
      "text/plain": [
       "<Figure size 640x480 with 1 Axes>"
      ]
     },
     "metadata": {},
     "output_type": "display_data"
    }
   ],
   "source": [
    "data2 = pd.read_csv('LA07-nonlinear-data2.csv', header=None, skiprows=1)\n",
    "data2.columns = ['x1', 'x2', 'label']\n",
    "print(data.head())\n",
    "\n",
    "X2 = data2.iloc[:, [0, 1]]\n",
    "y2 = data2.iloc[:, 2]\n",
    "plot_data(X2.values, y2.values)"
   ]
  },
  {
   "cell_type": "code",
   "execution_count": 10,
   "id": "3a1d740ca4957989",
   "metadata": {
    "ExecuteTime": {
     "end_time": "2025-03-17T13:22:27.922619Z",
     "start_time": "2025-03-17T13:22:27.918885Z"
    }
   },
   "outputs": [],
   "source": [
    "# 2.1 Train the SVM model using the Gaussian kernel on dataset 1\n",
    "def kernel(x1, x2):\n",
    "    n = x1.shape[0]\n",
    "    m = x2.shape[0]\n",
    "    K = np.zeros((n, m))\n",
    "    for i in range(n):\n",
    "        for j in range(m):\n",
    "            K[i, j] = gaussian_kernel(x1[i], x2[j])\n",
    "    return K\n",
    "\n",
    "# ===================== Your Code Here =====================\n",
    "# ==========================================================\n",
    "# clf = \n"
   ]
  },
  {
   "cell_type": "code",
   "execution_count": 11,
   "id": "1310c024ec7c5875",
   "metadata": {
    "ExecuteTime": {
     "end_time": "2025-03-17T13:22:30.114341Z",
     "start_time": "2025-03-17T13:22:30.111442Z"
    }
   },
   "outputs": [
    {
     "ename": "NameError",
     "evalue": "name 'clf' is not defined",
     "output_type": "error",
     "traceback": [
      "\u001b[31m---------------------------------------------------------------------------\u001b[39m",
      "\u001b[31mNameError\u001b[39m                                 Traceback (most recent call last)",
      "\u001b[36mCell\u001b[39m\u001b[36m \u001b[39m\u001b[32mIn[11]\u001b[39m\u001b[32m, line 24\u001b[39m\n\u001b[32m     15\u001b[39m     \u001b[38;5;66;03m# ===================== Your Code Here =====================\u001b[39;00m\n\u001b[32m     16\u001b[39m     \u001b[38;5;66;03m# Hint: \u001b[39;00m\n\u001b[32m     17\u001b[39m     \u001b[38;5;66;03m# step1. Predict the value of Z using the trained model\u001b[39;00m\n\u001b[32m     18\u001b[39m     \u001b[38;5;66;03m# step2. Reshape Z to the same shape as xx\u001b[39;00m\n\u001b[32m     19\u001b[39m     \u001b[38;5;66;03m# step3. Plot the contour of Z\u001b[39;00m\n\u001b[32m     20\u001b[39m     \u001b[38;5;66;03m# ==========================================================\u001b[39;00m\n\u001b[32m     23\u001b[39m plot_data(X.values, y.values)\n\u001b[32m---> \u001b[39m\u001b[32m24\u001b[39m visualize_boundary(\u001b[43mclf\u001b[49m, X[\u001b[33m'\u001b[39m\u001b[33mx1\u001b[39m\u001b[33m'\u001b[39m].min(), X[\u001b[33m'\u001b[39m\u001b[33mx1\u001b[39m\u001b[33m'\u001b[39m].max(), X[\u001b[33m'\u001b[39m\u001b[33mx2\u001b[39m\u001b[33m'\u001b[39m].min(), X[\u001b[33m'\u001b[39m\u001b[33mx2\u001b[39m\u001b[33m'\u001b[39m].max())\n",
      "\u001b[31mNameError\u001b[39m: name 'clf' is not defined"
     ]
    },
    {
     "data": {
      "image/png": "[encoded data removed]",
      "text/plain": [
       "<Figure size 640x480 with 1 Axes>"
      ]
     },
     "metadata": {},
     "output_type": "display_data"
    }
   ],
   "source": [
    "# 3. visualize the decision boundary\n",
    "def visualize_boundary(clf, x1_min, x1_max, x2_min, x2_max):\n",
    "    \"\"\"\n",
    "    Visualize the decision boundary\n",
    "    :param clf: the trained SVM model\n",
    "    :param x_min: minimum value of x\n",
    "    :param x_max: maximum value of x\n",
    "    :param y_min: minimum value of y\n",
    "    :param y_max: maximum value of y\n",
    "    \"\"\"\n",
    "\n",
    "    h = .02\n",
    "    xx, yy = np.meshgrid(np.arange(x1_min, x1_max, h), np.arange(x2_min, x2_max, h))\n",
    "    \n",
    "    # ===================== Your Code Here =====================\n",
    "    # Hint: \n",
    "    # step1. Predict the value of Z using the trained model\n",
    "    # step2. Reshape Z to the same shape as xx\n",
    "    # step3. Plot the contour of Z\n",
    "    # ==========================================================\n",
    "    \n",
    "\n",
    "plot_data(X.values, y.values)\n",
    "visualize_boundary(clf, X['x1'].min(), X['x1'].max(), X['x2'].min(), X['x2'].max())"
   ]
  },
  {
   "cell_type": "code",
   "execution_count": null,
   "id": "92388aa22085cf76",
   "metadata": {
    "ExecuteTime": {
     "end_time": "2025-03-17T13:22:33.648482Z",
     "start_time": "2025-03-17T13:22:33.645334Z"
    }
   },
   "outputs": [],
   "source": [
    "# 2.2. Train the SVM model using the Gaussian kernel on dataset 2\n",
    "# ===================== Your Code Here =====================\n",
    "# ==========================================================\n"
   ]
  },
  {
   "cell_type": "code",
   "execution_count": null,
   "id": "6c7849f9f1f7b504",
   "metadata": {
    "ExecuteTime": {
     "end_time": "2025-03-17T13:22:34.172945Z",
     "start_time": "2025-03-17T13:22:34.170019Z"
    }
   },
   "outputs": [],
   "source": [
    "# 4. Try to chose different kernel functions and compare the results\n",
    "# ===================== Your Code Here =====================\n",
    "# ==========================================================\n"
   ]
  }
 ],
 "metadata": {
  "kernelspec": {
   "display_name": "DSAA2011",
   "language": "python",
   "name": "python3"
  },
  "language_info": {
   "codemirror_mode": {
    "name": "ipython",
    "version": 3
   },
   "file_extension": ".py",
   "mimetype": "text/x-python",
   "name": "python",
   "nbconvert_exporter": "python",
   "pygments_lexer": "ipython3",
   "version": "3.13.2"
  }
 },
 "nbformat": 4,
 "nbformat_minor": 5
}
