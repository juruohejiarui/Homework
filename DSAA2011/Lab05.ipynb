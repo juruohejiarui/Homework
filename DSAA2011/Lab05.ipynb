{
 "cells": [
  {
   "cell_type": "markdown",
   "id": "16f16420-62e4-47ed-adb4-f53db4ee05b9",
   "metadata": {},
   "source": [
    "*2025 Spring DSAA 2011 Maching Learning*\n",
    "## Lab Note 05\n",
    "*Guanghua Li, Weiwen Chen, Zixin Zhong* \\\n",
    "*Hong Kong University of Science and Technology (Guangzhou)*"
   ]
  },
  {
   "cell_type": "code",
   "execution_count": null,
   "id": "3d3d58c5-e693-411e-be5d-595d5e2105d4",
   "metadata": {},
   "outputs": [],
   "source": [
    "import numpy as np"
   ]
  },
  {
   "cell_type": "markdown",
   "id": "c9ab5b8f-ac49-4b9b-99ba-46ec8cfec10c",
   "metadata": {},
   "source": [
    "**Question 1**. In ridge regression, for any $\\lambda>0$, why is $\\mathbf{X}^\\top \\mathbf{X}+\\lambda \\mathbf{I}$ always invertible?"
   ]
  },
  {
   "cell_type": "code",
   "execution_count": null,
   "id": "6b5a3439-b00b-468b-ba84-f6a2875f5db8",
   "metadata": {},
   "outputs": [],
   "source": []
  },
  {
   "cell_type": "markdown",
   "id": "1a6a5f35-ada3-4530-bda4-d896ae5f83aa",
   "metadata": {},
   "source": [
    "**Question 2**. Show that the primal and dual forms of the ridge regression solution are the same, i.e., for any $\\lambda>0$,\n",
    "$$\n",
    "\\begin{aligned}\n",
    "\\left(\\mathbf{X}^{\\top} \\mathbf{X}+\\lambda \\mathbf{I}_{d+1}\\right)^{-1} \\mathbf{X}^{\\top} \\mathbf{y}\n",
    "=\n",
    "\\mathbf{X}^{\\top}\\left(\\mathbf{X X}^{\\top}+\\lambda \\mathbf{I}_m\\right)^{-1} \\mathbf{y}.\n",
    "\\end{aligned}\n",
    "$$\n",
    "You use the Woodbury formula\n",
    "$$\n",
    "(\\mathbf{I}+\\mathbf{U}\\mathbf{V})^{-1}=\\mathbf{I}-\\mathbf{U}(\\mathbf{I}+\\mathbf{V}\\mathbf{U})^{-1}\\mathbf{V}.\n",
    "$$"
   ]
  },
  {
   "cell_type": "code",
   "execution_count": null,
   "id": "dfb5a6e0-e7d1-4d91-be20-75ebe099c3da",
   "metadata": {},
   "outputs": [],
   "source": []
  },
  {
   "cell_type": "markdown",
   "id": "cea6d90b-030e-4844-9ac2-20699de84004",
   "metadata": {},
   "source": [
    "**Question 3**. Find the minimum of function\n",
    "    $$\n",
    "        g(\\mathbf{x}) = (\\mathbf{x} - [0\\ x_2\\ 0]^\\top)^\\top \\mathbf{x} + [1\\ 2 \\ 0] \\cdot \\mathbf{x} + 5, \\ \\mathbf{x}=\\{x_1, x_2, x_3\\}^\\top \\in \\mathbb{R}_{3\\times 1}\n",
    "    $$\n",
    "    with gradient descent.\n",
    "\n",
    "Let $\\mathbf{x}_0=[ 0.5\\ 0 \\ 1]^\\top $ and learning rate $\\eta=0.2$:\n",
    "\n",
    "1. What are the values of $\\mathbf{x}_1, \\mathbf{x}_2, \\mathbf{x}_3$? Obtain your solution **by hand**.\n",
    "2. (Optional) What are the values of $\\mathbf{x}_4, \\mathbf{x}_5$? Obtain your solution **by hand**.\n",
    "3. Use *Python* to calculate the gradient and obtain $\\mathbf{x}_0, \\ldots, \\mathbf{x}_{100}$. "
   ]
  },
  {
   "cell_type": "code",
   "execution_count": null,
   "id": "1863fc87",
   "metadata": {},
   "outputs": [],
   "source": []
  },
  {
   "cell_type": "markdown",
   "id": "3be298e8-959b-4e9d-b2b9-d678b128dd84",
   "metadata": {},
   "source": [
    "**Question 4**. Find the minimum of function\n",
    "    $$\n",
    "        g(\\mathbf{x}) = (\\mathbf{x} - [x_1\\ 0\\ 1]^\\top)^\\top \\mathbf{x} + [1\\ 0 \\ 2] \\cdot \\mathbf{x} + 2, \\ \\mathbf{x}=\\{x_1, x_2, x_3\\}^\\top \\in \\mathbb{R}_{3\\times 1}\n",
    "    $$\n",
    "    with gradient descent with decreasing learning rate.\n",
    "\n",
    "Let the initialization point $\\mathbf{x}_0=[2\\ 1\\ 3]^\\top$ and learning rate $\\eta=0.1$, use *Python* to obtain $\\mathbf{x}_0, \\ldots, \\mathbf{x}_{100}$ with three methods below individually:\n",
    "\n",
    "1. $\\eta_{k+1}=\\eta_k/\\alpha$\n",
    "1. $\\eta_{k+1}=\\eta_k-\\alpha$\n",
    "1. Adagrad"
   ]
  },
  {
   "cell_type": "code",
   "execution_count": null,
   "id": "990b1da4",
   "metadata": {},
   "outputs": [],
   "source": [
    "import numpy as np\n",
    "\n",
    "def gradient(x : np.ndarray) -> np.ndarray :\n",
    "\treturn np.array([1, 2 * x[1], 2 * x[2] + 1])\n",
    "alpha = 1.01\n",
    "lr = 0.1\n",
    "\n",
    "k_max = 100\n",
    "\n",
    "x0 = np.array([0.5, 0, 1])\n",
    "\n",
    "x_iter = np.zeros((101, 3))\n",
    "lr_iter = np.zeros(101)\n",
    "\n",
    "x_iter[0] = x0\n",
    "lr_iter[0] = lr\n",
    "for i in range(1, k_max + 1) :\n",
    "\tlr_iter[i] = lr_iter[i - 1] / alpha\n",
    "\tx_iter[i] = x_iter[i - 1] - lr_iter[i] * gradient(x_iter[i - 1])\n",
    "\n",
    "print(x_iter[-10 : ])"
   ]
  },
  {
   "cell_type": "code",
   "execution_count": null,
   "id": "87711859",
   "metadata": {},
   "outputs": [],
   "source": [
    "# skip"
   ]
  },
  {
   "cell_type": "code",
   "execution_count": null,
   "id": "d6f05ae5",
   "metadata": {},
   "outputs": [],
   "source": [
    "sum_gradient = 0\n",
    "epsilon = 1e-6\n",
    "lr = 0.5\n",
    "for i in range(1, k_max + 1) :\n",
    "\tgrad = gradient(x_iter[i - 1])\n",
    "\tsum_gradient += grad.T @ grad\n",
    "\tlr_true = lr / np.sqrt(sum_gradient + epsilon)\n",
    "\tx_iter[i] = x_iter[i - 1] - lr_true * grad\n",
    "\n",
    "print(x_iter[-10 : ])"
   ]
  }
 ],
 "metadata": {
  "kernelspec": {
   "display_name": "DSAA2011",
   "language": "python",
   "name": "python3"
  },
  "language_info": {
   "codemirror_mode": {
    "name": "ipython",
    "version": 3
   },
   "file_extension": ".py",
   "mimetype": "text/x-python",
   "name": "python",
   "nbconvert_exporter": "python",
   "pygments_lexer": "ipython3",
   "version": "3.13.2"
  }
 },
 "nbformat": 4,
 "nbformat_minor": 5
}
