{
 "cells": [
  {
   "cell_type": "markdown",
   "id": "16f16420-62e4-47ed-adb4-f53db4ee05b9",
   "metadata": {},
   "source": [
    "## *2025 Spring DSAA 2011 Maching Learning*\n",
    "## Lab Note 02\n",
    "*Zixin Zhong*\\\n",
    "*Hong Kong University of Science and Technology (Guangzhou)*\n"
   ]
  },
  {
   "cell_type": "markdown",
   "id": "2309aea2-fe76-47c5-9392-3e9ca993e68c",
   "metadata": {},
   "source": [
    "**Important note**: make sure Python can be used in your computer.\\\n",
    "Following is instruction for using Jupyter lab:\n",
    "1. Download the installer and install Python: https://www.python.org/downloads/\n",
    "2. Install Jupyterlab by typing in ‘Command prompt’: pip install jupyterlab\n",
    "3. Run Jupyterlab by typing in ‘Command prompt’: jupyter lab\n",
    "4. Install packages as needed with ‘Command prompt\\\n",
    "e.g. to install numpy, type: pip install numpy\n"
   ]
  },
  {
   "cell_type": "markdown",
   "id": "fa7f8e58-2c5c-4f90-8a34-f8e52f5c2811",
   "metadata": {},
   "source": [
    "**Question 1.** What is the difference between online learning and offline learning?"
   ]
  },
  {
   "cell_type": "code",
   "execution_count": null,
   "id": "2ca82974-58d7-4371-8168-dceec3fbf9e3",
   "metadata": {},
   "outputs": [],
   "source": []
  },
  {
   "cell_type": "markdown",
   "id": "261cad38-ae4e-4a4b-9266-8672eefdcecd",
   "metadata": {},
   "source": [
    "**Question 2.** Prove $1/\\theta$ is the expectation of exponential distribution with\n",
    "\\begin{align}\n",
    "f_X(x ; \\theta)=\\left\\{\\begin{array}{cc}\n",
    "\\theta \\exp (-\\theta x) & x \\geq 0 \\\\\n",
    "0 & x<0\n",
    "\\end{array}. \\right.\n",
    "\\end{align}\n",
    "Hint: check the integral by parts."
   ]
  },
  {
   "cell_type": "markdown",
   "metadata": {},
   "source": [
    "since $\\frac{\\mathrm{d}(\\exp(-\\theta x))}{\\mathrm{d} x} = \\exp(-\\theta x)\\cdot (-\\theta) $, then we have\n",
    "$$\n",
    "\\begin{aligned}\n",
    "\\mathbb{E}[X]=&\\int _0^{+\\infty} x\\cdot \\theta \\exp(-\\theta x) \\mathrm{d} x \\\\\n",
    "=&-\\int _0^{+\\infty} x\\cdot \\mathrm{d}(\\exp(-\\theta x)) \\\\\n",
    "=&[-x \\cdot \\exp(-\\theta x)]_{0}^{+\\infty}+\\int _0^{+\\infty} \\exp(-\\theta x) \\mathrm{d} x \\\\\n",
    "=&0-\\frac{1}{\\theta}\\int_{0}^{-\\infty} \\exp(-\\theta x) \\mathrm{d} (-\\theta x)\\\\\n",
    "=&-\\frac{1}{\\theta}[\\exp(x)]_0^{-\\infty} \\\\\n",
    "=&-\\frac{1}{\\theta}(0 - 1) \\\\\n",
    "=&\\frac{1}{\\theta}\n",
    "\\end{aligned}\n",
    "$$"
   ]
  },
  {
   "cell_type": "code",
   "execution_count": null,
   "id": "c8137afe-4bcf-43bc-bf1b-3c4a0aa61113",
   "metadata": {},
   "outputs": [],
   "source": []
  },
  {
   "cell_type": "markdown",
   "id": "3f222654-9ad8-402f-aa8f-af2ac9dc4bc8",
   "metadata": {},
   "source": [
    "**Question 3.** Let $\\mathcal{D} = \\{X_1,\\ldots,X_n\\}$ be a set of $n$ samples independently drawn from the univariate Gaussian distribution with \n",
    "$$\\begin{align}\n",
    "f_X\\left(x ; \\mu, \\sigma^2\\right)=\\mathcal{N}\\left(x ; \\mu, \\sigma^2\\right)=\\frac{1}{\\sqrt{2 \\pi \\sigma^2}} \\exp \\left(-\\frac{1}{2 \\sigma^2}(x-\\mu)^2\\right) \\quad x \\in \\mathbb{R}.\n",
    "\\end{align}$$\n",
    "Derive the formula of maximum likelihood estimation (MLE) of mean $\\mu$ and variance $\\sigma^2$."
   ]
  },
  {
   "cell_type": "markdown",
   "id": "162b4136",
   "metadata": {},
   "source": [
    "Let $\\hat \\mu, \\hat \\sigma$ be the MLE of $\\mu$ and $\\sigma$ .\n",
    "Then let $F(\\mu, \\sigma^2):=\\prod_{i=1}^n \\frac{1}{\\sqrt{2\\pi \\sigma^2}} \\exp\\left(-\\frac{1}{2\\sigma ^2}(X_i-\\mu)^2\\right)$\n",
    "\n",
    "Then we have :\n",
    "$$\n",
    "F(\\mu, \\sigma^2)=(\\frac{1}{\\sqrt{2\\pi \\sigma^2}})^n \\exp\\left(-\\frac{1}{2\\sigma^2}\\sum_{i=1}^n (X_i-\\mu)^2\\right)\n",
    "$$\n",
    "Then we let :\n",
    "$$\n",
    "G(\\mu, \\sigma^2):=\\ln F(\\mu, \\sigma^2)\n",
    "$$\n",
    "Then :\n",
    "$$\n",
    "\\begin{aligned}\n",
    "G(\\mu, \\sigma^2)&=n\\ln \\left(\\frac{1}{\\sqrt{2\\pi\\sigma^2}}\\right) -\\frac{1}{2\\sigma^2}\\sum_{i=1}^n (X_i-\\mu)^2 \\\\\n",
    "&=-\\frac{n}{2} \\ln(2\\pi\\sigma^2)-\\frac{1}{2\\sigma^2}\\sum_{i=1}^n (X_i-\\mu)^2 \\\\\n",
    "\\end{aligned}\n",
    "$$\n",
    "\n",
    "Then we can get two derivative:\n",
    "$$\n",
    "\\begin{aligned}\n",
    "\\frac{\\partial G(\\mu, \\sigma^2)}{\\partial \\mu}&=\\frac{1}{\\sigma^2}\\sum_{i=1}^n(X_i-\\mu)=\\left(\\sum_{i=1}^n X_i\\right)-n\\mu\\\\\n",
    "\\frac{\\partial G(\\mu, \\sigma^2)}{\\partial \\sigma^2}&=-\\frac{n}{2}\\cdot\\frac{1}{\\sigma^2}+\\frac{1}{2\\sigma^4}\\sum_{i=1}^n (X_i-\\mu)^2\\\\\n",
    "\\end{aligned}\n",
    "$$\n",
    "\n",
    "$$\n",
    "\\begin{aligned}\n",
    "\\hat\\mu&=\\arg\\max_\\mu F(\\mu, \\sigma^2) \\\\\n",
    "&=\\arg\\max_\\mu G(\\mu, \\sigma^2) \\\\\n",
    "&=\\frac{1}{n}\\sum_{i=1}^n X_i\n",
    "\\end{aligned}\n",
    "$$\n",
    "$$\n",
    "\\begin{aligned}\n",
    "{\\hat\\sigma}^2=\\frac{1}{n}\\sum_{i=1}^n(X_i-\\hat\\mu)^2\n",
    "\\end{aligned}\n",
    "$$"
   ]
  },
  {
   "cell_type": "code",
   "execution_count": null,
   "id": "4af9a2bd-979a-4f0c-a922-f2f885600064",
   "metadata": {},
   "outputs": [],
   "source": []
  },
  {
   "cell_type": "markdown",
   "id": "103d619a-3383-432f-bd81-c8c1b5a894ca",
   "metadata": {},
   "source": [
    "**Question 4.** Generate dataset and calculate MLE with Python.\n",
    "1. Generate three datasets:\n",
    "    1. $n=100$ samples from Gaussian distribution $\\mathcal{N}(6,10)$;\n",
    "    1. $n=150$ samples from Bernoulli distribution $\\mathrm{Bern}(0.3)$;\n",
    "    2. $n=180$ samples from Exponential distribution $\\mathrm{Exp}(0.6)$.\n",
    "2. Plot each dataset with histogram.\n",
    "3. Using **only numpy**, calculate the maximum likelihood estimation of distribution parameters for each dataset.\n",
    "4. For each dataset, plot the data samples, ground truth distritbuion, and the distribution with MLE of parameters in the same figure. \n",
    "1. For each dataset, change $n$ and check the change of MLEs."
   ]
  },
  {
   "cell_type": "code",
   "execution_count": null,
   "id": "c711a039-be10-4d4e-b32d-9be9f771d5e0",
   "metadata": {},
   "outputs": [],
   "source": [
    "import numpy as np\n",
    "import matplotlib.pyplot as plt\n",
    "from scipy.stats import norm, bernoulli, expon\n",
    "\n",
    "# Set seed for reproducibility\n",
    "np.random.seed(42)\n",
    "\n",
    "# Step 1: Generate datasets\n",
    "n1, n2, n3 = 100, 150, 180\n",
    "data_gaussian = np.random.normal(6, np.sqrt(10), n1)\n",
    "data_bernoulli = np.random.binomial(1, 0.3, n2)\n",
    "data_exponential = np.random.exponential(1/0.6, n3)\n",
    "\n",
    "# Step 2: Plot histograms\n",
    "fig, axes = plt.subplots(1, 3, figsize=(15, 4))\n",
    "axes[0].hist(data_gaussian, bins=20, alpha=0.6, color='b', density=True)\n",
    "axes[0].set_title(\"Gaussian: N(6, 10)\")\n",
    "axes[1].hist(data_bernoulli, bins=[-0.5, 0.5, 1.5], alpha=0.6, color='g', density=True)\n",
    "axes[1].set_title(\"Bernoulli: Bern(0.3)\")\n",
    "axes[2].hist(data_exponential, bins=20, alpha=0.6, color='r', density=True)\n",
    "axes[2].set_title(\"Exponential: Exp(0.6)\")\n",
    "plt.show()\n",
    "\n",
    "# Step 3: MLE parameter estimation\n",
    "mu_mle = np.mean(data_gaussian)\n",
    "sigma2_mle = np.var(data_gaussian, ddof=0)  # MLE of variance\n",
    "p_mle = np.mean(data_bernoulli)  # MLE of p\n",
    "lambda_mle = 1 / np.mean(data_exponential)  # MLE of lambda\n",
    "\n",
    "print(f\"MLE for Gaussian: Mean = {mu_mle:.3f}, Variance = {sigma2_mle:.3f}\")\n",
    "print(f\"MLE for Bernoulli: p = {p_mle:.3f}\")\n",
    "print(f\"MLE for Exponential: lambda = {lambda_mle:.3f}\")\n",
    "\n",
    "# Step 4: Plot data with ground truth and MLE-based distributions\n",
    "x_gauss = np.linspace(min(data_gaussian), max(data_gaussian), 100)\n",
    "x_exp = np.linspace(0, max(data_exponential), 100)\n",
    "\n",
    "fig, axes = plt.subplots(1, 3, figsize=(15, 4))\n",
    "\n",
    "# Gaussian\n",
    "axes[0].hist(data_gaussian, bins=20, density=True, alpha=0.6, color='b', label=\"Data\")\n",
    "axes[0].plot(x_gauss, norm.pdf(x_gauss, 6, np.sqrt(10)), 'k--', label=\"True N(6,10)\")\n",
    "axes[0].plot(x_gauss, norm.pdf(x_gauss, mu_mle, np.sqrt(sigma2_mle)), 'r-', label=\"MLE N\")\n",
    "axes[0].legend()\n",
    "axes[0].set_title(\"Gaussian Distribution\")\n",
    "\n",
    "# Bernoulli\n",
    "axes[1].bar([0, 1], [0.7, 0.3], alpha=0.6, color='g', label=\"True Bern(0.3)\")\n",
    "axes[1].bar([0, 1], [1-p_mle, p_mle], alpha=0.6, color='r', label=\"MLE Bern\")\n",
    "axes[1].legend()\n",
    "axes[1].set_title(\"Bernoulli Distribution\")\n",
    "\n",
    "# Exponential\n",
    "axes[2].hist(data_exponential, bins=20, density=True, alpha=0.6, color='r', label=\"Data\")\n",
    "axes[2].plot(x_exp, expon.pdf(x_exp, scale=1/0.6), 'k--', label=\"True Exp(0.6)\")\n",
    "axes[2].plot(x_exp, expon.pdf(x_exp, scale=1/lambda_mle), 'b-', label=\"MLE Exp\")\n",
    "axes[2].legend()\n",
    "axes[2].set_title(\"Exponential Distribution\")\n",
    "\n",
    "plt.show()\n",
    "\n",
    "# Step 5: Change n and check MLE\n",
    "n_values = [50, 200, 500]\n",
    "for n in n_values:\n",
    "    data_gaussian = np.random.normal(6, np.sqrt(10), n)\n",
    "    data_bernoulli = np.random.binomial(1, 0.3, n)\n",
    "    data_exponential = np.random.exponential(1/0.6, n)\n",
    "\n",
    "    mu_mle = np.mean(data_gaussian)\n",
    "    sigma2_mle = np.var(data_gaussian, ddof=0)\n",
    "    p_mle = np.mean(data_bernoulli)\n",
    "    lambda_mle = 1 / np.mean(data_exponential)\n",
    "\n",
    "    print(f\"n={n}: Gaussian MLE -> Mean = {mu_mle:.3f}, Variance = {sigma2_mle:.3f}\")\n",
    "    print(f\"n={n}: Bernoulli MLE -> p = {p_mle:.3f}\")\n",
    "    print(f\"n={n}: Exponential MLE -> lambda = {lambda_mle:.3f}\")\n"
   ]
  }
 ],
 "metadata": {
  "kernelspec": {
   "display_name": "DSAA2011",
   "language": "python",
   "name": "python3"
  },
  "language_info": {
   "codemirror_mode": {
    "name": "ipython",
    "version": 3
   },
   "file_extension": ".py",
   "mimetype": "text/x-python",
   "name": "python",
   "nbconvert_exporter": "python",
   "pygments_lexer": "ipython3",
   "version": "3.13.2"
  }
 },
 "nbformat": 4,
 "nbformat_minor": 5
}
