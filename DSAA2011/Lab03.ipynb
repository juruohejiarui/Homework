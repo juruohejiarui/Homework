{
 "cells": [
  {
   "cell_type": "markdown",
   "id": "16f16420-62e4-47ed-adb4-f53db4ee05b9",
   "metadata": {},
   "source": [
    "*2025 Spring DSAA 2011 Maching Learning*\n",
    "## Lab Note 03\n",
    "*Zixin Zhong, Hong Kong University of Science and Technology (Guangzhou)*\n"
   ]
  },
  {
   "cell_type": "markdown",
   "id": "fa7f8e58-2c5c-4f90-8a34-f8e52f5c2811",
   "metadata": {},
   "source": [
    "**Question 1.** Show that if $f:\\mathbb{R}^d\\to\\mathbb{R}$ is a linear function, then $f$ must pass through the origin, i.e., $f(\\mathbf{0})=0$ where $\\mathbf{0}\\in\\mathbb{R}^d$ is the zero vector with $d$ dimensions."
   ]
  },
  {
   "cell_type": "code",
   "execution_count": null,
   "id": "2ca82974-58d7-4371-8168-dceec3fbf9e3",
   "metadata": {},
   "outputs": [],
   "source": []
  },
  {
   "cell_type": "markdown",
   "id": "261cad38-ae4e-4a4b-9266-8672eefdcecd",
   "metadata": {},
   "source": [
    "**Question 2.** Show that if we have $n$ vectors $\\mathbf{x}_i  \\in\\mathbb{R}^d, i = 1,\\ldots, n$ and $n$ scalars $a_i\\in \\mathbb{R}, i = 1,\\ldots, n$, a linear function satisfies\n",
    "$$\n",
    "f\\bigg(\\sum_{i=1}^n a_i\\  \\mathbf{x}_i\\bigg) =  \\sum_{i=1}^n a_i\\ f(\\mathbf{x}_i) .\n",
    "$$\n",
    "Hint: begin with the case of $n=2$."
   ]
  },
  {
   "cell_type": "code",
   "execution_count": null,
   "id": "c8137afe-4bcf-43bc-bf1b-3c4a0aa61113",
   "metadata": {},
   "outputs": [],
   "source": []
  },
  {
   "cell_type": "markdown",
   "id": "3f222654-9ad8-402f-aa8f-af2ac9dc4bc8",
   "metadata": {},
   "source": [
    "**Question 3.** Let $f: \\mathbb{R}\\to\\mathbb{R}$ be the absolute value function \n",
    "$$f(x) =|x|.$$\n",
    "Is $f$ linear?"
   ]
  },
  {
   "cell_type": "code",
   "execution_count": null,
   "id": "4af9a2bd-979a-4f0c-a922-f2f885600064",
   "metadata": {},
   "outputs": [],
   "source": []
  },
  {
   "cell_type": "markdown",
   "id": "103d619a-3383-432f-bd81-c8c1b5a894ca",
   "metadata": {},
   "source": [
    "**Question 4.** Is a linear function affine? Is an affine function linear?"
   ]
  },
  {
   "cell_type": "code",
   "execution_count": null,
   "id": "60da2677-0852-4c1e-b584-ee4511914186",
   "metadata": {},
   "outputs": [],
   "source": []
  },
  {
   "cell_type": "markdown",
   "id": "2e25efa2-4a2f-4cbb-ac20-bdb54a4c8e1a",
   "metadata": {},
   "source": [
    "**Question 5.** Consider *Examples 1 and 2* of linear regression introduced during the lecture. Do the following for each example:\n",
    "1. Show the linear system does not have a solution **by hand**.\n",
    "1. Calculate the least squares solution using **only numpy**. Print the vector $\\bar{\\mathbf{w}}$.\n",
    "2. Generate $10$ random new training samples $x_{\\text{new}}$ and predict the corresponding value $\\hat{y}_{\\text{new}}$ for each $x_{\\text{new}}$."
   ]
  },
  {
   "cell_type": "code",
   "execution_count": 2,
   "id": "a78995fd-5ba9-4cd4-ae17-68b8c1f71b6d",
   "metadata": {},
   "outputs": [
    {
     "name": "stdout",
     "output_type": "stream",
     "text": [
      "[0.2967033 0.1978022]\n",
      "[-0.75        0.17857143  0.92857143]\n"
     ]
    }
   ],
   "source": [
    "import numpy as np\n",
    "\n",
    "x1 = np.array([[1, -7], [1, -5], [1, 1], [1, 5]])\n",
    "y1 = np.array([-1, -1, 1, 1])\n",
    "\n",
    "w1 = np.linalg.inv(x1.T @ x1) @ x1.T @ y1\n",
    "\n",
    "print(w1)\n",
    "\n",
    "# Example 2 data\n",
    "X2 = np.array([[1, 1, 1],\n",
    "               [1, -1, 1],\n",
    "               [1, 1, 3],\n",
    "               [1, 1, 0]])\n",
    "y2 = np.array([1, 0, 2, -1])\n",
    "\n",
    "w2 = np.linalg.inv(X2.T @ X2) @ X2.T @ y2\n",
    "\n",
    "print(w2)"
   ]
  },
  {
   "cell_type": "code",
   "execution_count": 8,
   "id": "32c809c8",
   "metadata": {},
   "outputs": [
    {
     "name": "stdout",
     "output_type": "stream",
     "text": [
      "[[ 1.         -1.10197511]\n",
      " [ 1.          0.88504459]\n",
      " [ 1.         -4.99909751]\n",
      " [ 1.          1.31310752]\n",
      " [ 1.          3.10497878]\n",
      " [ 1.          3.09090207]\n",
      " [ 1.          4.49722205]\n",
      " [ 1.         -2.15741009]\n",
      " [ 1.          2.4876757 ]\n",
      " [ 1.          1.85838331]] [ 0.0787302   0.47176706 -0.69212918  0.55643885  0.91087492  0.90809052\n",
      "  1.1862637  -0.13003716  0.78877102  0.6642956 ]\n",
      "[[ 1.          3.62883853  0.96682053]\n",
      " [ 1.          3.95664257 -4.76433078]\n",
      " [ 1.         -2.40454251 -3.75510532]\n",
      " [ 1.          1.32281708 -4.80493011]\n",
      " [ 1.          0.92047612  2.52813557]\n",
      " [ 1.          0.61812244  2.48034527]\n",
      " [ 1.          3.19194909 -1.00225288]\n",
      " [ 1.          3.42793639  1.52689732]\n",
      " [ 1.          1.73025185 -4.3373991 ]\n",
      " [ 1.         -0.88172291 -1.51093623]] [ 0.7957688  -4.46747812 -4.6662661  -4.97550348  1.7619252   1.66355676\n",
      " -1.11067248  1.27996472 -4.46861133 -2.31046273]\n"
     ]
    }
   ],
   "source": [
    "x1_new = np.random.uniform(-5, 5, (10)).T\n",
    "x1_new = np.vstack([np.ones(10), x1_new]).T\n",
    "\n",
    "y1_new = x1_new @ w1\n",
    "print(x1_new, y1_new)\n",
    "\n",
    "x2_new = np.random.uniform(-5, 5, (10, 2)).T\n",
    "x2_new = np.vstack([np.ones(10), x2_new]).T\n",
    "\n",
    "y2_new = x2_new @ w2\n",
    "print(x2_new, y2_new)"
   ]
  }
 ],
 "metadata": {
  "kernelspec": {
   "display_name": "DSAA2011",
   "language": "python",
   "name": "python3"
  },
  "language_info": {
   "codemirror_mode": {
    "name": "ipython",
    "version": 3
   },
   "file_extension": ".py",
   "mimetype": "text/x-python",
   "name": "python",
   "nbconvert_exporter": "python",
   "pygments_lexer": "ipython3",
   "version": "3.13.2"
  }
 },
 "nbformat": 4,
 "nbformat_minor": 5
}
