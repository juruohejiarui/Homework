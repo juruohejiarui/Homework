{
 "cells": [
  {
   "cell_type": "markdown",
   "id": "4d0c1ab4",
   "metadata": {},
   "source": [
    "# **Lab03: Linked List**\n",
    "\n",
    "- ### Your Name:\n",
    "何家睿，Jiarui HE\n",
    "- ### Your Student ID:\n",
    "50013538"
   ]
  },
  {
   "cell_type": "markdown",
   "id": "a2c216ea",
   "metadata": {},
   "source": [
    "## Introduction\n",
    "\n",
    "In this lab, you will implement a new operation called **REVERSE** on a linked list under given constraints. You will also recognize and discuss different implementations of linked lists in the following tasks.\n",
    "\n",
    "Please **note** that NO LATE SUBMISSION will be accepted. If you truly has extraordinary conditions that prevent you from submitting on time, please send email with evidence to  *Professor WANG* and the TA of your experimental class. \n",
    "\n",
    "### Goal:\n",
    "1. Gaining a deeper understanding of the inner workings of **linked lists** *(not just being able to read the basic implementation code in the textbook)*\n",
    "2. Being able to write different operation codes for data structures such as **linked lists**\n",
    "\n",
    "\n",
    "### Prerequisites\n",
    "\n",
    "Before starting this lab, students should have:\n",
    "- Familiarity with the concept of linked lists (if not, please read the reference book first; *CLRS 4th, p258-264*)."
   ]
  },
  {
   "cell_type": "markdown",
   "id": "b2f6d01c",
   "metadata": {},
   "source": [
    "## Task 1\n",
    "\n",
    "The provided code implements a singly linked list using two Python lists (arrays).\n",
    "\n",
    "One list (`self.nodes`) stores the data of each node, and another list (`self.next_indices`) stores the indices that act as \"pointers\" to the next node in the list.\n",
    "\n",
    "**TODO: Please read and run the given code below first, then finish the given tasks in the second code block:** (30% Marks)\n"
   ]
  },
  {
   "cell_type": "code",
   "execution_count": 6,
   "id": "8cff2980",
   "metadata": {},
   "outputs": [
    {
     "name": "stdout",
     "output_type": "stream",
     "text": [
      "3 -> 2 -> 4\n",
      "ll[0] = 3, index = 0\n",
      "ll[1] = 2, index = 1\n",
      "ll[2] = 4, index = 2\n",
      "head = 0; free = 3\n",
      "idx :      0 ,     1 ,     2 \n",
      "node:  [   3], [   2], [   4]\n",
      "next:  [   1], [   2], [  -1]\n"
     ]
    }
   ],
   "source": [
    "# implementation of a singly linked list using a list to store the nodes \n",
    "# and another list to store the next \"pointers\":\n",
    "\n",
    "class LinkedList:\n",
    "    # const\n",
    "    Nil = -1\n",
    "    \n",
    "    def __init__(self):\n",
    "        self.nodes = []  # This list holds the data\n",
    "        self.next_indices = []  # This list holds the \"pointers\" to the next node\n",
    "        self.head_index = LinkedList.Nil  # This is the \"pointer\" to the head of the list\n",
    "        self.free_index = 0  # This is an index to insert the new node\n",
    "\n",
    "    def append(self, data):\n",
    "        # Insert the new node at the end of the list\n",
    "        self.nodes.append(data)\n",
    "        self.next_indices.append(LinkedList.Nil)\n",
    "        \n",
    "        # If the list is empty, initialize head_index\n",
    "        if self.head_index == LinkedList.Nil:\n",
    "            self.head_index = self.free_index\n",
    "        else:\n",
    "            # Find the last node and update its next index\n",
    "            current_index = self.head_index\n",
    "            while self.next_indices[current_index] != LinkedList.Nil:\n",
    "                current_index = self.next_indices[current_index]\n",
    "            self.next_indices[current_index] = self.free_index\n",
    "\n",
    "        self.free_index += 1\n",
    "\n",
    "    def get(self, idx):\n",
    "        # Get the idx-th data; idx is 0-based\n",
    "        current_index = self.head_index\n",
    "        i = 0\n",
    "        while current_index != LinkedList.Nil and i < idx:\n",
    "            current_index = self.next_indices[current_index]\n",
    "            i += 1\n",
    "        if current_index != LinkedList.Nil:\n",
    "            return self.nodes[current_index]\n",
    "        else:\n",
    "            return LinkedList.Nil\n",
    "        \n",
    "    def get_index(self, idx):\n",
    "        # Get the idx-th data; idx is 0-based\n",
    "        current_index = self.head_index\n",
    "        i = 0\n",
    "        while current_index != LinkedList.Nil and i < idx:\n",
    "            current_index = self.next_indices[current_index]\n",
    "            i += 1\n",
    "        return current_index\n",
    "        \n",
    "        \n",
    "    def __str__(self):\n",
    "        result = []\n",
    "        current_index = self.head_index\n",
    "        while current_index != LinkedList.Nil:\n",
    "            result.append(str(self.nodes[current_index]))\n",
    "            current_index = self.next_indices[current_index]\n",
    "        return ' -> '.join(result)\n",
    "    \n",
    "    def debug(self):\n",
    "        print(f\"head = {self.head_index}; free = {self.free_index}\")\n",
    "        print(\"idx : \", \", \".join(map(lambda x: f\" {x:>4} \", range(self.free_index)  )))\n",
    "        print(\"node: \", \", \".join(map(lambda x: f\"[{x:>4}]\", self.nodes)))\n",
    "        print(\"next: \", \", \".join(map(lambda x: f\"[{x:>4}]\", self.next_indices)))\n",
    "\n",
    "# Example usage\n",
    "ll = LinkedList()\n",
    "ll.append(3)\n",
    "ll.append(2)\n",
    "ll.append(4)\n",
    "print(ll)  # Output will be: 3 -> 2 -> 4\n",
    "for i in range(3):\n",
    "    print(f\"ll[{i}] = {ll.get(i)}, index = {ll.get_index(i)}\")\n",
    "ll.debug()"
   ]
  },
  {
   "cell_type": "markdown",
   "id": "fd9d6e6e",
   "metadata": {},
   "source": [
    "**Task 1.1: You need to implement the `LinkedList::delete(self, idx)` method below.** (15% Marks)"
   ]
  },
  {
   "cell_type": "code",
   "execution_count": 12,
   "id": "9d8e6548",
   "metadata": {},
   "outputs": [
    {
     "name": "stdout",
     "output_type": "stream",
     "text": [
      "3 -> 2 -> 4\n",
      "ll[0] = 3, index = 0\n",
      "ll[1] = 2, index = 1\n",
      "ll[2] = 4, index = 2\n",
      "head = 0; free = 3\n",
      "idx :      0 ,     1 ,     2 \n",
      "node:  [   3], [   2], [   4]\n",
      "next:  [   1], [   2], [  -1]\n"
     ]
    },
    {
     "name": "stdout",
     "output_type": "stream",
     "text": [
      "3 -> 4\n",
      "3 -> 4 -> 9\n",
      "4 -> 9\n"
     ]
    }
   ],
   "source": [
    "def delete(self, idx):\n",
    "    # TODO\n",
    "    if self.head_index == idx:\n",
    "        self.head_index = self.next_indices[self.head_index]\n",
    "    lst_index, current_index = self.head_index, self.next_indices[self.head_index]\n",
    "    while current_index != idx and current_index != LinkedList.Nil:\n",
    "        lst_index, current_index = current_index, self.next_indices[current_index]\n",
    "    if current_index == idx:\n",
    "        self.next_indices[lst_index] = self.next_indices[current_index]\n",
    "# Add the new method to the class dynamically\n",
    "LinkedList.delete = delete\n",
    "\n",
    "# Test Example\n",
    "ll = LinkedList()\n",
    "ll.append(3)\n",
    "ll.append(2)\n",
    "ll.append(4)\n",
    "print(ll)  # Output will be: 3 -> 2 -> 4\n",
    "for i in range(3):\n",
    "    print(f\"ll[{i}] = {ll.get(i)}, index = {ll.get_index(i)}\")\n",
    "ll.debug()\n",
    "\n",
    "ll.delete(1)\n",
    "print(ll)\n",
    "\n",
    "ll.append(9)\n",
    "print(ll)\n",
    "\n",
    "ll.delete(0)\n",
    "print(ll)"
   ]
  },
  {
   "cell_type": "markdown",
   "id": "0f051223",
   "metadata": {},
   "source": [
    "**Task 1.2: Please consider whether it is possible for the space used by the implementation to keep growing while the actual number of data stored remains constant.**\n",
    "\n",
    "**If so, Why it happens? Please give a concrete example of such worst case update sequence.**\n",
    "\n",
    "**If not, please explain your analysis process from the perspective of the given linked list implementation code.** (15% Marks)"
   ]
  },
  {
   "cell_type": "markdown",
   "id": "081e45d8",
   "metadata": {},
   "source": [
    "***(Please fill in your answer here)***\n",
    "\n",
    "Possible\n",
    "\n",
    "Because that when a new node is inserted into the linked list, two new elements of $\\texttt{list}$ will be inserted into $\\texttt{LinkedList.next\\_indices}$ and $\\texttt{LinkedList.nodes}$ respectively, this operation increases the space usage. But when one node is deleted, the space for this node does not be released and stays in $\\texttt{LinkedList.next\\_indices}$ and $\\texttt{LinkedList.nodes}$. Thus the space used may keep growing. \n",
    "\n",
    "Example:\n",
    "When the content of $\\texttt{for}$ loop excutes once, the number of $\\texttt{lls}$ keeps $0$, and the usage of space increass.\n",
    "```python\n",
    "lls : LinkedList\n",
    "for i in range(10000):\n",
    "    lls.append(i)\n",
    "    lls.delete(i)\n",
    "```"
   ]
  },
  {
   "cell_type": "markdown",
   "id": "bb116a7c",
   "metadata": {},
   "source": [
    "## Task 2\n",
    "\n",
    "Give a $\\Theta(n)$-time nonrecursive procedure that reverses a singly linked list of n elements. The procedure should use no more than constant storage beyond that needed for the list itself.\n",
    "\n",
    "**TODO: Please follow the code tips below to finish the Task 2** (20% Marks)"
   ]
  },
  {
   "cell_type": "code",
   "execution_count": 21,
   "id": "a2e7cb5c",
   "metadata": {},
   "outputs": [
    {
     "name": "stdout",
     "output_type": "stream",
     "text": [
      "Original list:\n",
      "1->2->3->4->5\n",
      "Reversed list:\n",
      "5->4->3->2->1\n"
     ]
    }
   ],
   "source": [
    "class Node:\n",
    "    def __init__(self, data):\n",
    "        self.data = data\n",
    "        self.next = None    # You can simply use Node().next = Node() to implement the pointer, here None means that the list is empty \n",
    "\n",
    "def reverse_list(head):\n",
    "    # TODO (15% Marks)\n",
    "    nxt = head.next\n",
    "    if nxt == None: return head\n",
    "    head.next = None\n",
    "    while nxt != None:\n",
    "        nxt2 = nxt.next\n",
    "        nxt.next = head\n",
    "        head, nxt = nxt, nxt2\n",
    "    return head\n",
    "\n",
    "# Helper functions to create a list and print it\n",
    "def create_list(elements):\n",
    "    head = Node(elements[0])\n",
    "    current = head\n",
    "    for element in elements[1:]:\n",
    "        current.next = Node(element)\n",
    "        current = current.next\n",
    "    return head\n",
    "\n",
    "def print_list(head):\n",
    "    # TODO (5% Marks)\n",
    "    if head == None: print(); return\n",
    "    print(f\"{head.data}\", end = '')\n",
    "    if head.next != None:\n",
    "        print(\"->\", end = '')\n",
    "        print_list(head.next)\n",
    "    else : print()\n",
    "\n",
    "# Example usage\n",
    "elements = [1, 2, 3, 4, 5]\n",
    "head = create_list(elements)\n",
    "print(\"Original list:\")\n",
    "print_list(head)\n",
    "\n",
    "reversed_head = reverse_list(head)\n",
    "print(\"Reversed list:\")\n",
    "print_list(reversed_head)"
   ]
  },
  {
   "cell_type": "markdown",
   "id": "d9537739",
   "metadata": {},
   "source": [
    "## Grading Policy\n",
    "\n",
    "The marks of this is lab is composed of:\n",
    "* Submission: 50%\n",
    "* Task1: 30%\n",
    "  * Code implementation: 15%\n",
    "  * Text answers: 15%\n",
    "* Task2: 20%\n",
    "  * Code implementation: 20%"
   ]
  }
 ],
 "metadata": {
  "kernelspec": {
   "display_name": "Python 3 (ipykernel)",
   "language": "python",
   "name": "python3"
  },
  "language_info": {
   "codemirror_mode": {
    "name": "ipython",
    "version": 3
   },
   "file_extension": ".py",
   "mimetype": "text/x-python",
   "name": "python",
   "nbconvert_exporter": "python",
   "pygments_lexer": "ipython3",
   "version": "3.11.6"
  }
 },
 "nbformat": 4,
 "nbformat_minor": 5
}
