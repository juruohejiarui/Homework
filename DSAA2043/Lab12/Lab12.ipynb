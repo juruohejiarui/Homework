{
 "cells": [
  {
   "cell_type": "markdown",
   "metadata": {},
   "source": [
    "# Lab 12\n",
    "Name: Jiarui HE\n",
    "\n",
    "Student ID: 50013538\n",
    "\n",
    "# Problem 1"
   ]
  },
  {
   "cell_type": "code",
   "execution_count": null,
   "metadata": {},
   "outputs": [],
   "source": [
    "import math\n",
    "def getlcs(s1 : str, s2 : str) -> str :\n",
    "\tdp = [[0 for _ in range(len(s2) + 1)] for _ in range(len(s1) + 1)]\n",
    "\tfor i in range(1, len(s1) + 1) :\n",
    "\t\tfor j in range(1, len(s2) + 1) :\n",
    "\t\t\tif s1[i - 1] == s2[j - 1] :\n",
    "\t\t\t\tdp[i][j] = dp[i - 1][j - 1] + 1\n",
    "\t\t\tdp[i][j] = max(dp[i][j], dp[i - 1][j], dp[i][j - 1])\n",
    "\tif dp[len(s1)][len(s2)] == 0 : return 'None!'\n",
    "\tstk = []\n",
    "\tp1, p2 = len(s1), len(s2)\n",
    "\twhile dp[p1][p2] > 0 :\n",
    "\t\tif p1 > 0 and p2 > 0 and dp[p1][p2] == dp[p1 - 1][p2 - 1] + 1:\n",
    "\t\t\tstk.append(s1[p1 - 1])\n",
    "\t\t\tp1 -= 1\n",
    "\t\t\tp2 -= 1\n",
    "\t\telif p1 > 0 and dp[p1][p2] == dp[p1 - 1][p2] :\n",
    "\t\t\tp1 -= 1\n",
    "\t\telif p2 > 0 and dp[p1][p2] == dp[p1][p2 - 1] :\n",
    "\t\t\tp2 -= 1\n",
    "\tans = ''\n",
    "\twhile len(stk) > 0 : ans += stk[-1]; stk.pop()\n",
    "\treturn ans\n",
    "\t\n",
    "\n",
    "print(getlcs(\"abc\", \"abcd\"))\n",
    "print(getlcs(\"axyb\", \"abyxb\"))\n",
    "print(getlcs('z', 'a'))\n",
    "print(getlcs(\"1919810\", \"114514\"))"
   ]
  },
  {
   "cell_type": "markdown",
   "metadata": {},
   "source": [
    "# Problem 2\n",
    "## Idea and state definition\n",
    "The basic idea is that convert the problem into Longest Increasing Subsequence (LIS) problem. Let $A,B$ be the two string that we deal with. Then, let $p_c$ be the set of position (or index) of character $c$ in $B$. Then construct a sequence $C$ by the following way:\n",
    "\n",
    "Consider the characters of $A$ from left to right. If character $c$ is not in $B$, then skip. Otherwise, add all the elements of set $p_c$ to the end of $C$ , from larger index to smaller index.\n",
    "\n",
    "For example, when $A=\"\\texttt{abdcc}\", B=\"\\texttt{bcaac}\"$, we get that :\n",
    "$$\n",
    "p_{\\texttt{a}}=\\{3,4\\}, p_{\\texttt{b}}=\\{1\\}, p_{\\texttt{c}}=\\{2,5\\}\n",
    "$$\n",
    "Then we can construct $C$: \n",
    "$$\n",
    "4,3,1,5,2,5,2\n",
    "$$\n",
    "Then we can calculate the LIS of $C$, which is the position sequence of selected index of LCS of $A$ and $B$. In the previous example, one of LIS of $C$ is $1,2,5$, then the LCS of the original problem should be $\"\\texttt{bcc}\"$ .\n",
    "\n",
    "For state definition: Let $f(i)$ be the LIS of subsequence $C_{1\\dots i}$ when the last element should be $C_i$ .\n",
    "## State Transition Equation\n",
    "$$\n",
    "f(i)=\\begin{cases}\n",
    "1 & \\text{if }C_i \\text{ is the minimum of } C_{1\\dots i} \\\\\n",
    "\\max_{1\\leq j< i, C_j<C_i}\\{f(j)\\} + 1 & \\mathrm{otherwise}\n",
    "\\end{cases}\n",
    "$$ \n",
    "## Time Complexity\n",
    "For a $C$ with length $l$, by applying RMQ (Range Minimum/Maximum Query) data structure, we can get a time complexity of $\\Theta(l\\log_2 l)$, what me need to do is that:\n",
    "- set up a data structure that can answer the maximum value of a contiguous subsequence (represented by a segment $[l,r]$) of a sequence with $\\Theta(n\\log_2 n)$ (called $\\mathrm{query}(l,r)$) and modify one position $p$ of that sequence to be $v$ (called $\\mathrm{modi}(p,v)$) with $\\Theta(n\\log_2 n)$ .\n",
    "- when we finish calculate $f(i)$, perform $\\mathrm{modi}(C_i,f(i))$ .\n",
    "- when we need to calculate $f(i)$ , perform $\\mathrm{query}(\\text{minimum of }C, C_i-1)$ .\n",
    "\n",
    "Let $\\Sigma$ be the size of character set of $A,B$, then the average value of $l$ is $O\\left(\\frac{mn}{\\Sigma}\\right)$ , and the best cases is $O(n)$ when the chracters in B are different from other.\n",
    "Thus the time complexity of best cases is $O(n\\log_2 n)$ "
   ]
  }
 ],
 "metadata": {
  "kernelspec": {
   "display_name": "base",
   "language": "python",
   "name": "python3"
  },
  "language_info": {
   "codemirror_mode": {
    "name": "ipython",
    "version": 3
   },
   "file_extension": ".py",
   "mimetype": "text/x-python",
   "name": "python",
   "nbconvert_exporter": "python",
   "pygments_lexer": "ipython3",
   "version": "3.12.4"
  }
 },
 "nbformat": 4,
 "nbformat_minor": 2
}
