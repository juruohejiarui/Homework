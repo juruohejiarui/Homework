{
 "cells": [
  {
   "cell_type": "markdown",
   "metadata": {},
   "source": [
    "# Lab 05: Trees and Heaps\n",
    "#### Name: \n",
    "\n",
    "Jiarui HE\n",
    "#### Student ID:\n",
    "\n",
    "50013538\n",
    "\n",
    "---\n",
    "\n",
    "## Note \n",
    "Basic test cases are supplied for initial verification; however, successfully passing these does not ensure a full score. The grading criteria include several boundary scenarios, and we strongly recommend that you create additional test cases to thoroughly assess your implementation.\n",
    "\n",
    "Feel free to include auxiliary functions within your class to support your implementation. But the original ones should remain the same for the TA to evaluate."
   ]
  },
  {
   "cell_type": "markdown",
   "metadata": {},
   "source": [
    "---\n",
    "# Coding Exercises"
   ]
  },
  {
   "cell_type": "markdown",
   "metadata": {},
   "source": [
    "## Exercise 1: Implementing BST\n",
    "Implement a binary search tree (BST) from scratch. Please be aware that the `delete` function is designed to remove only one element per invocation."
   ]
  },
  {
   "cell_type": "code",
   "execution_count": 8,
   "metadata": {},
   "outputs": [],
   "source": [
    "class Node:\n",
    "\tdef __init__(self, key:int):\n",
    "\t\t# TODO\n",
    "\t\tself.key = key\n",
    "\t\tself.cnt = 1\n",
    "\t\tself.lChild : Node = None\n",
    "\t\tself.rChild : Node = None\n",
    "\n",
    "class BinarySearchTree:\n",
    "\tdef __init__(self):\n",
    "\t\tself.root = None\n",
    "\n",
    "\t# insert an element to the tree\n",
    "\tdef insert(self, key:int):\n",
    "\t\t# TODO\n",
    "\t\tif self.root == None :\n",
    "\t\t\tself.root = Node(key)\n",
    "\t\t\treturn \n",
    "\t\tcur = self.root\n",
    "\t\twhile True :\n",
    "\t\t\tif key == cur.key : \n",
    "\t\t\t\tcur.cnt += 1\n",
    "\t\t\t\treturn\n",
    "\t\t\tif key < cur.key :\n",
    "\t\t\t\tif cur.lChild == None :\n",
    "\t\t\t\t\tcur.lChild = Node(key=key)\n",
    "\t\t\t\t\treturn \n",
    "\t\t\t\telse : cur = cur.lChild\n",
    "\t\t\telse :\n",
    "\t\t\t\tif cur.rChild == None :\n",
    "\t\t\t\t\tcur.rChild = Node(key=key)\n",
    "\t\t\t\t\treturn\n",
    "\t\t\t\telse : cur = cur.rChild\n",
    "\n",
    "\t# search for key in the tree. Return True if there exists a node with this key, and False otherwise\n",
    "\tdef search(self, key:int) -> bool:\n",
    "\t\t# TODO\n",
    "\t\tcur = self.root\n",
    "\t\twhile cur != None :\n",
    "\t\t\tif cur.key == key : return True\n",
    "\t\t\tif cur.key < key : cur = cur.rChild\n",
    "\t\t\telse : cur = cur.lChild\n",
    "\t\treturn False\n",
    "\n",
    "\t# delete an element with value of key\n",
    "\tdef delete(self, key:int):\n",
    "\t\t# TODO\n",
    "\t\tcur, lst, dir = self.root, None, 0\n",
    "\t\twhile cur != None :\n",
    "\t\t\tif cur.key == key : break\n",
    "\t\t\tlst = cur\n",
    "\t\t\tif cur.key < key : dir = 1; cur = cur.rChild\n",
    "\t\t\telse : dir = 0; cur = cur.lChild\n",
    "\t\tif cur == None : raise KeyError(f\"Key {key} does not exist.\")\n",
    "\t\t\n",
    "\t\tcur.cnt -= 1\n",
    "\t\tif cur.cnt > 0 : return\n",
    "\t\tif cur.lChild == None :\n",
    "\t\t\tif lst == None :\n",
    "\t\t\t\tself.root = cur.rChild\n",
    "\t\t\telse :\n",
    "\t\t\t\tif dir == 1 : lst.rChild = cur.rChild\n",
    "\t\t\t\telse : lst.lChild = cur.rChild\n",
    "\t\telse :\n",
    "\t\t\t# get prev\n",
    "\t\t\tprev = cur.lChild\n",
    "\t\t\tif prev.rChild == None :\n",
    "\t\t\t\tcur.key = prev.key\n",
    "\t\t\t\tcur.cnt = prev.cnt\n",
    "\t\t\t\tcur.lChild = prev.lChild\n",
    "\t\t\telse :\n",
    "\t\t\t\twhile prev.rChild != None :\n",
    "\t\t\t\t\tlst = prev\n",
    "\t\t\t\t\tprev = prev.rChild\n",
    "\t\t\t\t# swap the key and numbers of elements of cur and prev\n",
    "\t\t\t\tcur.cnt = prev.cnt\n",
    "\t\t\t\tcur.key = prev.key\n",
    "\t\t\t\tlst.rChild = None\n",
    "\n",
    "\t# return the inorder traversal number list\n",
    "\tdef inorder_traversal(self) -> list:\n",
    "\t\telements = []\n",
    "\t\tdef recur(node : Node) :\n",
    "\t\t\tif node.lChild != None : recur(node.lChild)\n",
    "\t\t\tfor i in range(node.cnt) : elements.append(node.key)\n",
    "\t\t\tif node.rChild != None : recur(node.rChild)\n",
    "\t\t# TODO\n",
    "\t\tif self.root != None : recur(self.root)\n",
    "\t\treturn elements\n",
    "\n",
    "\t# return the minimum value in this BST\n",
    "\tdef find_min(self) -> int:\n",
    "\t\tif self.root == None : raise KeyError(\"BST is empty\")\n",
    "\t\tcur = self.root\n",
    "\t\twhile cur.lChild != None : cur = cur.lChild\n",
    "\t\treturn cur.key"
   ]
  },
  {
   "cell_type": "code",
   "execution_count": 9,
   "metadata": {},
   "outputs": [
    {
     "name": "stdout",
     "output_type": "stream",
     "text": [
      "In-order traversal: [1, 2]\n",
      "In-order traversal: [1]\n",
      "Searching for 40 in BST: False\n",
      "Searching for 90 in BST: False\n",
      "find min=1\n"
     ]
    },
    {
     "ename": "KeyError",
     "evalue": "'BST is empty'",
     "output_type": "error",
     "traceback": [
      "\u001b[0;31m---------------------------------------------------------------------------\u001b[0m",
      "\u001b[0;31mKeyError\u001b[0m                                  Traceback (most recent call last)",
      "Cell \u001b[0;32mIn[9], line 15\u001b[0m\n\u001b[1;32m     13\u001b[0m \u001b[38;5;28mprint\u001b[39m(\u001b[38;5;124mf\u001b[39m\u001b[38;5;124m\"\u001b[39m\u001b[38;5;124mfind min=\u001b[39m\u001b[38;5;132;01m{\u001b[39;00mbst\u001b[38;5;241m.\u001b[39mfind_min()\u001b[38;5;132;01m}\u001b[39;00m\u001b[38;5;124m\"\u001b[39m)\n\u001b[1;32m     14\u001b[0m bst\u001b[38;5;241m.\u001b[39mdelete(bst\u001b[38;5;241m.\u001b[39mfind_min())\n\u001b[0;32m---> 15\u001b[0m \u001b[38;5;28mprint\u001b[39m(\u001b[38;5;124mf\u001b[39m\u001b[38;5;124m\"\u001b[39m\u001b[38;5;124mfind_min=\u001b[39m\u001b[38;5;132;01m{\u001b[39;00m\u001b[43mbst\u001b[49m\u001b[38;5;241;43m.\u001b[39;49m\u001b[43mfind_min\u001b[49m\u001b[43m(\u001b[49m\u001b[43m)\u001b[49m\u001b[38;5;132;01m}\u001b[39;00m\u001b[38;5;124m\"\u001b[39m)\n\u001b[1;32m     16\u001b[0m bst\u001b[38;5;241m.\u001b[39mdelete(\u001b[38;5;241m40\u001b[39m)\n\u001b[1;32m     17\u001b[0m bst\u001b[38;5;241m.\u001b[39mdelete(\u001b[38;5;241m30\u001b[39m)\n",
      "Cell \u001b[0;32mIn[8], line 93\u001b[0m, in \u001b[0;36mBinarySearchTree.find_min\u001b[0;34m(self)\u001b[0m\n\u001b[1;32m     92\u001b[0m \u001b[38;5;28;01mdef\u001b[39;00m \u001b[38;5;21mfind_min\u001b[39m(\u001b[38;5;28mself\u001b[39m) \u001b[38;5;241m-\u001b[39m\u001b[38;5;241m>\u001b[39m \u001b[38;5;28mint\u001b[39m:\n\u001b[0;32m---> 93\u001b[0m \t\u001b[38;5;28;01mif\u001b[39;00m \u001b[38;5;28mself\u001b[39m\u001b[38;5;241m.\u001b[39mroot \u001b[38;5;241m==\u001b[39m \u001b[38;5;28;01mNone\u001b[39;00m : \u001b[38;5;28;01mraise\u001b[39;00m \u001b[38;5;167;01mKeyError\u001b[39;00m(\u001b[38;5;124m\"\u001b[39m\u001b[38;5;124mBST is empty\u001b[39m\u001b[38;5;124m\"\u001b[39m)\n\u001b[1;32m     94\u001b[0m \tcur \u001b[38;5;241m=\u001b[39m \u001b[38;5;28mself\u001b[39m\u001b[38;5;241m.\u001b[39mroot\n\u001b[1;32m     95\u001b[0m \t\u001b[38;5;28;01mwhile\u001b[39;00m cur\u001b[38;5;241m.\u001b[39mlChild \u001b[38;5;241m!=\u001b[39m \u001b[38;5;28;01mNone\u001b[39;00m : cur \u001b[38;5;241m=\u001b[39m cur\u001b[38;5;241m.\u001b[39mlChild\n",
      "\u001b[0;31mKeyError\u001b[0m: 'BST is empty'"
     ]
    }
   ],
   "source": [
    "# Examples\n",
    "bst = BinarySearchTree()\n",
    "bst.insert(50)\n",
    "bst.insert(30)\n",
    "bst.insert(20)\n",
    "# Attend\n",
    "bst.insert(40)\n",
    "bst.insert(70)\n",
    "bst.insert(60)\n",
    "bst.insert(80)\n",
    "\n",
    "print(\"In-order traversal:\", bst.inorder_traversal()) # [20, 30, 40, 50, 60, 70, 80]\n",
    "\n",
    "print(\"Searching for 40 in BST:\", bst.search(40))  # True\n",
    "print(\"Searching for 90 in BST:\", bst.search(90))  # False\n",
    "\n",
    "print(f\"find min={bst.find_min()}\")\n",
    "bst.delete(bst.find_min())\n",
    "print(f\"find_min={bst.find_min()}\")\n",
    "bst.delete(40)\n",
    "bst.delete(30)\n",
    "bst.insert(35)\n",
    "print(f\"find_min={bst.find_min()}\")\n",
    "bst.delete(50)\n",
    "for i in range(130, 120, -1) : bst.insert(i)\n",
    "print(f\"In-order traversal: {bst.inorder_traversal()}\")\n",
    "print(f\"search 121 : {bst.search(121)}\")\n",
    "for i in range(122, 125) :\n",
    "    bst.delete(i)\n",
    "    bst.insert(i + 20)\n",
    "    print(f\"In-order traversal: {bst.inorder_traversal()}\")\n",
    "for i in range(14) :\n",
    "    bst.delete(bst.find_min())\n",
    "    print(f\"In-order traversal: {bst.inorder_traversal()}\")"
   ]
  },
  {
   "cell_type": "markdown",
   "metadata": {},
   "source": [
    "## Exercise 2: Convert a sorted list to a BST\n",
    "Write a function to convert a sorted list to a balanced BST. Your algorithm should run in $O(n)$ time.\n",
    "\n",
    "(Hint: select the median element recursively)"
   ]
  },
  {
   "cell_type": "code",
   "execution_count": 32,
   "metadata": {},
   "outputs": [],
   "source": [
    "\"\"\"\n",
    "A function taking a sorted list as input and outputing a binary search tree\n",
    "Notice that essentially you are manipulating nodes. To return the BST, just new a BST object and set its root to be the root node generated by your algorithm.\n",
    "\"\"\"\n",
    "# Notice that e\n",
    "def sorted_list_to_bst(sorted_list: list) -> BinarySearchTree:\n",
    "\tbst = BinarySearchTree()\n",
    "\tdef recur(rgL, rgR) :\n",
    "\t\tif rgL > rgR : return None\n",
    "\t\tmid = (rgL + rgR) // 2\n",
    "\t\tnode = Node(sorted_list[mid])\n",
    "\t\tnode.lChild, node.rChild = recur(rgL, mid - 1), recur(mid + 1, rgR)\n",
    "\t\treturn node\n",
    "\tbst.root = recur(0, len(sorted_list) - 1)\n",
    "\treturn bst"
   ]
  },
  {
   "cell_type": "code",
   "execution_count": 33,
   "metadata": {},
   "outputs": [
    {
     "name": "stdout",
     "output_type": "stream",
     "text": [
      "In-order traversal: [1, 2, 3, 4, 5, 6, 7]\n"
     ]
    }
   ],
   "source": [
    "# Example usage:\n",
    "sorted_list = [1, 2, 3, 4, 5, 6, 7]\n",
    "bst = sorted_list_to_bst(sorted_list)\n",
    "print(\"In-order traversal:\", bst.inorder_traversal()) # Output should be the same as the original list"
   ]
  },
  {
   "cell_type": "markdown",
   "metadata": {},
   "source": [
    "---"
   ]
  },
  {
   "cell_type": "markdown",
   "metadata": {},
   "source": [
    "# Written Exercises\n",
    "For Exercise 3 and 4, please submit a separate pdf file or insert the images into the notebook and submit images together.\n",
    "## Exercise 3: AVL tree operations"
   ]
  },
  {
   "cell_type": "markdown",
   "metadata": {},
   "source": [
    "Following the provided example, construct an AVL tree incrementally (left to right) from the array `[20, 26, 9, 4, 3, 14, 15, 18, 13, 22]`. Plot each step of the AVL tree’s construction process, detailing the operations performed.\n",
    "\n",
    "Example:\n",
    "Build an AVL tree from `[1, 2, 3]`:\n",
    "\n",
    "<img src=\"./AVL_eg.jpg\"/>\n"
   ]
  },
  {
   "cell_type": "markdown",
   "metadata": {},
   "source": [
    "## Exercise 4: Heap\n",
    "### 4.1 \n",
    "What are the minimum and maximum numbers of elements in a heap of height $h$?\n",
    "### 4.2\n",
    "Analyze the worst-case time complexity of heap sort."
   ]
  }
 ],
 "metadata": {
  "kernelspec": {
   "display_name": "base",
   "language": "python",
   "name": "python3"
  },
  "language_info": {
   "codemirror_mode": {
    "name": "ipython",
    "version": 3
   },
   "file_extension": ".py",
   "mimetype": "text/x-python",
   "name": "python",
   "nbconvert_exporter": "python",
   "pygments_lexer": "ipython3",
   "version": "3.12.4"
  }
 },
 "nbformat": 4,
 "nbformat_minor": 2
}
