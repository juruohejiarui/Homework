{
 "cells": [
  {
   "cell_type": "markdown",
   "id": "8d748d53",
   "metadata": {},
   "source": [
    "# Lab HASH\n",
    "#### Name: \n",
    "Jiarui HE\n",
    "#### Student ID:\n",
    "50013538\n",
    "---\n",
    "\n",
    "## Note \n",
    "Basic test cases are supplied for initial verification; You **must** attach your running results of the testing examples; however, successfully passing these does not ensure a full score. The grading criteria include several boundary scenarios, and we strongly recommend that you create additional test cases to thoroughly assess your implementation.\n",
    "\n",
    "Feel free to include auxiliary functions within your class to support your implementation. But the original ones should remain the same for the TA to evaluate."
   ]
  },
  {
   "cell_type": "markdown",
   "id": "3ea13ca1",
   "metadata": {},
   "source": [
    "## Problem 1: Implement a Simple Hash Set\n",
    "\n",
    "### Description\n",
    "Implement a simple hash set (HashSet) that supports the following operations:\n",
    "- `add(value)`: Add an element to the set.\n",
    "- `remove(value)`: Remove an element from the set.\n",
    "- `contains(value)`: Check if the set contains a specific element.\n",
    "\n",
    "### Requirements\n",
    "- Consider how to deal with hash collisions.\n",
    "- The hash function can simply use the modulo operation.\n",
    "- Ensure your implementation supports basic integer types.\n",
    "\n",
    "```python\n",
    "class HashSet:\n",
    "\tdef __init__(self, capacity=100):\n",
    "\t\t# Initialize the hash set with a given capacity\n",
    "\t\tpass\n",
    "\t\n",
    "\tdef add(self, value):\n",
    "\t\t# Implement the method to add an element\n",
    "\t\tpass\n",
    "\t\n",
    "\tdef remove(self, value):\n",
    "\t\t# Implement the method to remove an element\n",
    "\t\tpass\n",
    "\t\n",
    "\tdef contains(self, value):\n",
    "\t\t# Implement the method to check if an element exists\n",
    "\t\tpass\n",
    "\n",
    "# Test code\n",
    "hash_set = HashSet()\n",
    "hash_set.add(1)\n",
    "hash_set.add(2)\n",
    "print(hash_set.contains(1))  # Should return True\n",
    "print(hash_set.contains(3))  # Should return False\n",
    "hash_set.remove(2)\n",
    "print(hash_set.contains(2))  # Should return False\n",
    "```\n"
   ]
  },
  {
   "cell_type": "code",
   "execution_count": 3,
   "id": "a003cda3",
   "metadata": {},
   "outputs": [
    {
     "name": "stdout",
     "output_type": "stream",
     "text": [
      "True\n",
      "False\n",
      "False\n",
      "True\n"
     ]
    }
   ],
   "source": [
    "# Your code\n",
    "class HashSet:\n",
    "\tdef __init__(self, capacity=100):\n",
    "\t\t# Initialize the hash set with a given capacity\n",
    "\t\tself.capacity = capacity\n",
    "\t\tself.lst = [[] for i in range(self.capacity)]\n",
    "\t\tpass\n",
    "\t\n",
    "\tdef add(self, value, idx = -1):\n",
    "\t\t# Implement the method to add an element\n",
    "\t\thsVal = value % self.capacity\n",
    "\t\tself.lst[hsVal].append((value, idx))\n",
    "\t\tpass\n",
    "\t\n",
    "\tdef remove(self, value):\n",
    "\t\t# Implement the method to remove an element\n",
    "\t\thsVal = value % self.capacity\n",
    "\t\tpos = 0\n",
    "\t\twhile pos < len(self.lst[hsVal]) and self.lst[hsVal][pos][0] != value :\n",
    "\t\t\tpos += 1\n",
    "\t\tif pos == len(self.lst[hsVal]) : raise KeyError(f\"value {value} does not exist in this hash set.\")\n",
    "\t\tself.lst[hsVal][-1], self.lst[hsVal][pos] = self.lst[hsVal][pos], self.lst[hsVal][-1]\n",
    "\t\tself.lst[hsVal].pop()\n",
    "\t\n",
    "\tdef contains(self, value):\n",
    "\t\t# Implement the method to check if an element exists\n",
    "\t\thsVal = value % self.capacity\n",
    "\t\tfor ele in self.lst[hsVal] :\n",
    "\t\t\tif ele[0] == value : return True\n",
    "\t\treturn False\n",
    "\n",
    "\tdef getIndex(self, value) :\n",
    "\t\thsVal = value % self.capacity\n",
    "\t\tfor ele in self.lst[hsVal] :\n",
    "\t\t\tif ele[0] == value : return ele[1]\n",
    "\t\treturn None\n",
    "\n",
    "# Test code\n",
    "hash_set = HashSet()\n",
    "hash_set.add(1)\n",
    "hash_set.add(2)\n",
    "print(hash_set.contains(1))  # Should return True\n",
    "print(hash_set.contains(3))  # Should return False\n",
    "hash_set.remove(2)\n",
    "print(hash_set.contains(2))  # Should return False\n",
    "\n",
    "hash_set.add(102)\n",
    "hash_set.add(202)\n",
    "hash_set.add(301)\n",
    "hash_set.add(302)\n",
    "hash_set.remove(102)\n",
    "print(hash_set.contains(202))\n",
    "hash_set.remove(302)\n"
   ]
  },
  {
   "cell_type": "markdown",
   "id": "a67a8128",
   "metadata": {},
   "source": [
    "## Problem 2: Two Sum\n",
    "\n",
    "### Description\n",
    "Given an array of integers `nums` and an integer `target`, return the indices of the two numbers such that they add up to `target`.\n",
    "\n",
    "### Requirements\n",
    "- Use a hash table to reduce the time complexity to O(n).\n",
    "\n",
    "```python\n",
    "def two_sum(nums, target):\n",
    "\t# Implement the method to find two numbers that add up to the target\n",
    "\tpass\n",
    "\n",
    "# Test code\n",
    "print(two_sum([2, 7, 11, 15], 9))  # Should return [0, 1]\n"
   ]
  },
  {
   "cell_type": "code",
   "execution_count": 4,
   "id": "ac5cc208",
   "metadata": {},
   "outputs": [
    {
     "name": "stdout",
     "output_type": "stream",
     "text": [
      "[0, 1]\n"
     ]
    }
   ],
   "source": [
    "# Your code\n",
    "# \"dict\" in python is implemented by hash table\n",
    "def two_sum(nums, target) :\n",
    "\tdic = {}\n",
    "\tfor i in range(len(nums)) :\n",
    "\t\tif target - nums[i] in dic :\n",
    "\t\t\treturn [dic[target - nums[i]], i]\n",
    "\t\tdic[nums[i]] = i\n",
    "\treturn None\n",
    "\n",
    "print(two_sum([2, 7, 11, 15], 9))"
   ]
  },
  {
   "cell_type": "markdown",
   "id": "6f076f90",
   "metadata": {},
   "source": [
    "## Problem 3: Valid Anagram\n",
    "\n",
    "### Description\n",
    "Given two strings `s` and `t`, determine if `t` is an anagram of `s`.\n",
    "\n",
    "### Requirements\n",
    "- Assume the string contains only lowercase alphabets.\n",
    "- Use a hash table to solve the problem.\n",
    "\n",
    "```python\n",
    "def is_anagram(s, t):\n",
    "\tpass\n",
    "\n",
    "# Testing code\n",
    "print(is_anagram(\"anagram\", \"nagaram\"))  # Should return True\n",
    "print(is_anagram(\"rat\", \"car\"))\t\t  # Should return False\n",
    "```"
   ]
  },
  {
   "cell_type": "code",
   "execution_count": 6,
   "id": "fbb1e884",
   "metadata": {},
   "outputs": [
    {
     "name": "stdout",
     "output_type": "stream",
     "text": [
      "True\n",
      "False\n",
      "True\n"
     ]
    }
   ],
   "source": [
    "# Your code\n",
    "def is_anagram(s, t):\n",
    "\tcnt = {}\n",
    "\tif len(s) != len(t) : return False\n",
    "\n",
    "\tfor i in range(len(s)) : \n",
    "\t\tif s[i] not in cnt :\n",
    "\t\t\tcnt[s[i]] = 0\n",
    "\t\tcnt[s[i]] += 1\n",
    "\tfor i in range(len(t)) :\n",
    "\t\tif (t[i] not in cnt) or cnt[t[i]] <= 0 :\n",
    "\t\t\treturn False\n",
    "\t\tcnt[t[i]] -= 1\n",
    "\treturn True\n",
    "\n",
    "# Testing code\n",
    "print(is_anagram(\"anagram\", \"nagaram\"))  # Should return True\n",
    "print(is_anagram(\"rat\", \"car\"))\t\t  # Should return False\n",
    "print(is_anagram(\"aabab\", \"ababa\"))\t\t  # Should return True"
   ]
  }
 ],
 "metadata": {
  "kernelspec": {
   "display_name": "base",
   "language": "python",
   "name": "python3"
  },
  "language_info": {
   "codemirror_mode": {
    "name": "ipython",
    "version": 3
   },
   "file_extension": ".py",
   "mimetype": "text/x-python",
   "name": "python",
   "nbconvert_exporter": "python",
   "pygments_lexer": "ipython3",
   "version": "3.12.4"
  }
 },
 "nbformat": 4,
 "nbformat_minor": 5
}
