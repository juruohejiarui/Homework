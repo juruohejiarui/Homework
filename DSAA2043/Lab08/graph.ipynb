{
 "cells": [
  {
   "cell_type": "markdown",
   "metadata": {},
   "source": [
    "# Lab 08: Graphs Traversal\n",
    "#### Name: \n",
    "\n",
    "#### Student ID: \n",
    "\n",
    "---"
   ]
  },
  {
   "cell_type": "code",
   "execution_count": null,
   "metadata": {},
   "outputs": [],
   "source": [
    "class Graph:\n",
    "    def __init__(self):\n",
    "        self.graph = {} #adj list\n",
    "        # self.visited = set()  #if needed.\n",
    "    \n",
    "    def add_edge(self, node, neighbor): #add links\n",
    "        if node in self.graph:\n",
    "            self.graph[node].append(neighbor)\n",
    "        else:\n",
    "            self.graph[node] = [neighbor]\n",
    "        \n",
    "        if neighbor in self.graph:\n",
    "            self.graph[neighbor].append(node)\n",
    "        else:\n",
    "            self.graph[neighbor] = [node]\n",
    "    \n",
    "    def dfs_iterative_one(self, start):\n",
    "        '''\n",
    "        Question 1: Please use stack (list-basis) to implement iterative DFS in style one (i.e, push all neighbours into the stack)  \n",
    "        '''\n",
    "        ## TODO\n",
    "\n",
    "    def dfs_iterative_two(self, start):\n",
    "        '''\n",
    "        Question 2: Please use stack (list-basis) to implement iterative DFS in style two (i.e, push one neighbour into the stack)  \n",
    "        '''\n",
    "        ## TODO\n",
    "\n",
    "    def bfs(self, stat):\n",
    "        '''\n",
    "        Question 3: Please use queue (list-basis) to implement BFS. \n",
    "        '''\n",
    "        ## TODO\n",
    "\n",
    "\n",
    "    \n",
    "\n",
    "graph = Graph()\n",
    "graph.add_edge('A', 'B') #test graph. You are free to modify\n",
    "graph.add_edge('A', 'C')\n",
    "graph.add_edge('A', 'D')\n",
    "graph.add_edge('A', 'E')\n",
    "graph.add_edge('B', 'F')\n",
    "graph.add_edge('F', 'H')\n",
    "graph.add_edge('D', 'G')\n",
    "graph.add_edge('G', 'I')\n",
    "print('====DFS-Iterative-One====')\n",
    "graph.dfs_iterative_one('A')\n",
    "print('====DFS-Iterative-Two====')\n",
    "graph.dfs_iterative_two('A')\n",
    "print('====BFS====')\n",
    "graph.bfs('A')\n",
    "\n",
    "\n"
   ]
  }
 ],
 "metadata": {
  "kernelspec": {
   "display_name": "Python 3",
   "language": "python",
   "name": "python3"
  },
  "language_info": {
   "codemirror_mode": {
    "name": "ipython",
    "version": 3
   },
   "file_extension": ".py",
   "mimetype": "text/x-python",
   "name": "python",
   "nbconvert_exporter": "python",
   "pygments_lexer": "ipython3",
   "version": "3.11.4"
  }
 },
 "nbformat": 4,
 "nbformat_minor": 2
}
